{
 "cells": [
  {
   "cell_type": "code",
   "execution_count": null,
   "metadata": {
    "collapsed": true
   },
   "outputs": [],
   "source": [
    "# Python is sensitive with upper/lower case."
   ]
  },
  {
   "cell_type": "markdown",
   "metadata": {},
   "source": [
    "# Import and Export Data\n",
    "\n"
   ]
  },
  {
   "cell_type": "code",
   "execution_count": 5,
   "metadata": {
    "collapsed": false
   },
   "outputs": [
    {
     "name": "stdout",
     "output_type": "stream",
     "text": [
      "hihihihihi\n",
      "hello\n",
      "world\n"
     ]
    }
   ],
   "source": [
    "# it is a comment\n",
    "print ('hi'*5)\n",
    "print('hello\\nworld')  #\\n goes to a new line"
   ]
  },
  {
   "cell_type": "code",
   "execution_count": 8,
   "metadata": {
    "collapsed": false
   },
   "outputs": [
    {
     "name": "stdout",
     "output_type": "stream",
     "text": [
      "who are you?Verse\n",
      "welcome Verse\n"
     ]
    }
   ],
   "source": [
    "#input: \n",
    "name= input('who are you?')\n",
    "print('welcome', name)\n",
    "# the input will be string, if want a number, need to convert it such as int()"
   ]
  },
  {
   "cell_type": "code",
   "execution_count": null,
   "metadata": {
    "collapsed": true
   },
   "outputs": [],
   "source": [
    "#open files:\n",
    "xx=open('path.txt','r') #optional: 'r' means read, 'w' means write\n",
    "y=xx.read()  # to see the content of file xx\n",
    "\n",
    "x=input (\"file name\")\n",
    "try:\n",
    "    y=open(x)\n",
    "except:\n",
    "    print(\"file doesn't work\")\n",
    "    quit()  #put a quit function here, if read file doesn't work, system will not continue other codes\n",
    "\n",
    "# Open .csv file:\n",
    "import csv    # import module\n",
    "with open(xxx.csv) as csvfile:\n",
    "     data = list(csv.DictReader(csvfile))\n",
    "print(data)\n",
    "# output:\n",
    "[    'a': 1 , 'b' : 2, 'c' = 3\n",
    "  ,  'a': 23 , 'b' :24, 'c' = 234\n",
    "  ,  'a': 34 , 'b' :36, 'c' = 243]\n",
    "\n",
    "data[0].keys() # see column name\n",
    "#output: ['a','b','c']"
   ]
  },
  {
   "cell_type": "markdown",
   "metadata": {},
   "source": [
    "# Data Type"
   ]
  },
  {
   "cell_type": "markdown",
   "metadata": {},
   "source": [
    "## String"
   ]
  },
  {
   "cell_type": "code",
   "execution_count": 25,
   "metadata": {
    "collapsed": false
   },
   "outputs": [
    {
     "name": "stdout",
     "output_type": "stream",
     "text": [
      "appl\n",
      "e\n",
      "apple\n",
      "5\n",
      "False\n",
      "got it\n",
      "['Zhong', 'He']\n",
      "True\n"
     ]
    }
   ],
   "source": [
    "fruit =  'apple'\n",
    "#string ->01234 \n",
    "print( fruit[0:4])   # output: appl        digital 0 to 4 (4 is not included)\n",
    "print(fruit[-1]) # output: e\n",
    "print( fruit[0:])    # output: apple \n",
    "print ( len(fruit) )    # output: 5\n",
    "\n",
    "print('m' in fruit)     # output: FALSE\n",
    "if 'a' in fruit:\n",
    "    print ('got it')\n",
    "    \n",
    "Name = 'Zhong He'.split(' ')   # split by blank, putput is a list\n",
    "print(Name)\n",
    "\n",
    "#uppper case is lower than lower case:\n",
    "print('A' < 'a')     # output: TRUE"
   ]
  },
  {
   "cell_type": "code",
   "execution_count": 26,
   "metadata": {
    "collapsed": false
   },
   "outputs": [
    {
     "data": {
      "text/plain": [
       "str"
      ]
     },
     "execution_count": 26,
     "metadata": {},
     "output_type": "execute_result"
    }
   ],
   "source": [
    "#check data type:\n",
    "type('x')\n",
    "#convert data into integer / decimal: float() / int()  "
   ]
  },
  {
   "cell_type": "markdown",
   "metadata": {},
   "source": [
    "String Method:\n",
    "\n",
    "![alt text](bddb68f6adea4860ba131c689189a547.jpg )"
   ]
  },
  {
   "cell_type": "code",
   "execution_count": 44,
   "metadata": {
    "collapsed": false
   },
   "outputs": [
    {
     "name": "stdout",
     "output_type": "stream",
     "text": [
      "bob\n",
      "Bob\n",
      "Bxb\n",
      "David\n",
      "4\n",
      "bob\n",
      "   bob\n",
      "False\n"
     ]
    }
   ],
   "source": [
    "#covert upper/lower case:\n",
    "xx = \"Bob\"\n",
    "y = xx.lower()\n",
    "print (y)     # output: bob\n",
    "y= y.capitalize() \n",
    "print (y)  # bob -> Bob \n",
    "y= y.replace('o', 'x')\n",
    "print (y)  \n",
    "y= y.replace('Bxb', 'David')\n",
    "print (y)  \n",
    "y= y.find('d',1)  # find 'b' start at digital 1(second digital) \n",
    "print (y) \n",
    "\n",
    "xx= '   bob   '\n",
    "y= xx.strip() \n",
    "print(y)\n",
    "y= xx.rstrip() \n",
    "print(y)\n",
    "\n",
    "print(xx.startswith('vs '))\n",
    "\n",
    "#to find all avaiable methods: dir(xx) \n"
   ]
  },
  {
   "cell_type": "markdown",
   "metadata": {},
   "source": [
    "## List"
   ]
  },
  {
   "cell_type": "code",
   "execution_count": 1,
   "metadata": {
    "collapsed": false
   },
   "outputs": [
    {
     "data": {
      "text/plain": [
       "[1, 2, 3, 4, 5, 6]"
      ]
     },
     "execution_count": 1,
     "metadata": {},
     "output_type": "execute_result"
    }
   ],
   "source": [
    "# list maintain order\n",
    "x=[1,2,3]\n",
    "y=[4,5,6]\n",
    "x+y "
   ]
  },
  {
   "cell_type": "markdown",
   "metadata": {},
   "source": [
    "List method:\n",
    "![alt text](92D6A7ED775347D5AFBB48022DB4C04B.jpg )"
   ]
  },
  {
   "cell_type": "code",
   "execution_count": 7,
   "metadata": {
    "collapsed": false
   },
   "outputs": [
    {
     "name": "stdout",
     "output_type": "stream",
     "text": [
      "['value_b', 'value_a']\n",
      "['sf', 'sf', 'sf']\n"
     ]
    }
   ],
   "source": [
    "aa= list()\n",
    "aa.append('value_a') \n",
    "aa.append('value_b') \n",
    "aa.sort(reverse = True)\n",
    "print(aa)\n",
    "\n",
    "#split a string into list:\n",
    "x= 'sf sf sf'\n",
    "new_x = x.split()\n",
    "print(new_x)  \n",
    "#naturally, split by space, multiple space together is treat as one space\n",
    "#to name another delimiter: xx = x.split(';')\n",
    "\n",
    "\n",
    "#to find all avaiable methods: dir(xx) "
   ]
  },
  {
   "cell_type": "markdown",
   "metadata": {},
   "source": [
    "## Dictionary  "
   ]
  },
  {
   "cell_type": "code",
   "execution_count": 21,
   "metadata": {
    "collapsed": false
   },
   "outputs": [
    {
     "name": "stdout",
     "output_type": "stream",
     "text": [
      "{'a': 1, 'b': 2}\n",
      "['a', 'b']\n",
      "dict_keys(['a', 'b'])\n",
      "dict_values([1, 2])\n",
      "dict_items([('a', 1), ('b', 2)])\n",
      "a 1\n",
      "b 2\n"
     ]
    }
   ],
   "source": [
    "#you can think it as labeled, unordered list\n",
    "x=dict()\n",
    "x['a'] = 1 \n",
    "x['b'] = 2\n",
    "print(x)\n",
    "\n",
    "#convert a dictionary into list:\n",
    "print(list(x))\n",
    "print(x.keys())\n",
    "print(x.values())\n",
    "print(x.items())\n",
    "#to make use of items:\n",
    "for a,b in x.items():\n",
    "    print(a,b)\n"
   ]
  },
  {
   "cell_type": "markdown",
   "metadata": {},
   "source": [
    "Dict method: Get\n",
    "![alt text](CD88B34835DF44B5839380E512913C60.jpg )\n",
    "\n",
    ".get('a','b') is a method: if there is a label 'a', use it; otherwise, use default label 'b' for it"
   ]
  },
  {
   "cell_type": "markdown",
   "metadata": {},
   "source": [
    "## Tuple"
   ]
  },
  {
   "cell_type": "code",
   "execution_count": 39,
   "metadata": {
    "collapsed": false
   },
   "outputs": [
    {
     "name": "stdout",
     "output_type": "stream",
     "text": [
      "(4, 5, 6, 6)\n",
      "5\n",
      "2\n",
      "5\n"
     ]
    },
    {
     "data": {
      "text/plain": [
       "True"
      ]
     },
     "execution_count": 39,
     "metadata": {},
     "output_type": "execute_result"
    }
   ],
   "source": [
    "# tuple is not change-able:\n",
    "x= (4,5,6,6) \n",
    "print(x)\n",
    "\n",
    "#tuple only do .count() and index, such as x[2], no other methods\n",
    "print(x[1])\n",
    "print(x.count(6))\n",
    "\n",
    "#you can name each value in tuple, but you need to name all values\n",
    "first, second , third, last = x\n",
    "print(second)\n",
    "\n",
    "#tuple looks from left side to compare\n",
    "(4,5,6) > (3,9,7)"
   ]
  },
  {
   "cell_type": "markdown",
   "metadata": {},
   "source": [
    "## Map"
   ]
  },
  {
   "cell_type": "code",
   "execution_count": 53,
   "metadata": {
    "collapsed": false
   },
   "outputs": [
    {
     "name": "stdout",
     "output_type": "stream",
     "text": [
      "<map object at 0x0000029E1F2A9C88>\n",
      "{1, 2, 4}\n",
      "[]\n",
      "2\n",
      "5\n",
      "6\n"
     ]
    }
   ],
   "source": [
    "# map is a lazy function, it won't execute values until you really use it\n",
    "# it helps to manage memory, especially when you work with big data\n",
    "\n",
    "store1 = [1,5,6]\n",
    "store2 = [2,2,4]\n",
    "cheapest = map(min, store1, store2)\n",
    "print(cheapest)\n",
    "\n",
    "    \n",
    "# cheapest returns a map, to see the value in cheapest, use set(cheapest) or list(cheapest)\n",
    "print(set(cheapest))\n",
    "print(list(cheapest))\n",
    "#because set function already execute this map, you won't see it in list function   \n",
    "\n",
    "expensive = map(max, store1, store2)\n",
    "#map is iterable, you can use for loop with map:\n",
    "for x in expensive:\n",
    "    print(x)\n",
    "\n",
    "         "
   ]
  },
  {
   "cell_type": "markdown",
   "metadata": {},
   "source": [
    "# Basic Function"
   ]
  },
  {
   "cell_type": "markdown",
   "metadata": {
    "collapsed": true
   },
   "source": [
    "## Conditional statement: IF"
   ]
  },
  {
   "cell_type": "code",
   "execution_count": 3,
   "metadata": {
    "collapsed": false
   },
   "outputs": [
    {
     "name": "stdout",
     "output_type": "stream",
     "text": [
      "see this\n",
      "end\n"
     ]
    }
   ],
   "source": [
    "x=5\n",
    "if x==6:\n",
    "    print ('whatever')\n",
    "elif x > 5:\n",
    "    print ('still whatever')\n",
    "else:\n",
    "    print ('see this')\n",
    "print ('end')"
   ]
  },
  {
   "cell_type": "markdown",
   "metadata": {
    "collapsed": true
   },
   "source": [
    "## Conditional statement: Try"
   ]
  },
  {
   "cell_type": "code",
   "execution_count": 6,
   "metadata": {
    "collapsed": false
   },
   "outputs": [
    {
     "name": "stdout",
     "output_type": "stream",
     "text": [
      "it blows up\n"
     ]
    }
   ],
   "source": [
    "# try / except is a yes or no condition\n",
    "x = 'bob'\n",
    "try:\n",
    "   y= int(x)\n",
    "except:\n",
    "   y = 'it blows up'\n",
    "print (y)"
   ]
  },
  {
   "cell_type": "markdown",
   "metadata": {
    "collapsed": true
   },
   "source": [
    "## Define a Function"
   ]
  },
  {
   "cell_type": "code",
   "execution_count": 12,
   "metadata": {
    "collapsed": false
   },
   "outputs": [
    {
     "name": "stdout",
     "output_type": "stream",
     "text": [
      "7\n"
     ]
    }
   ],
   "source": [
    "def addtwo(a,b,c = None): # c could be none\n",
    "    if(c == None): \n",
    "         added= a+ b \n",
    "    else:\n",
    "         added = a+b +c\n",
    "    return added\n",
    "x = addtwo(2,5)\n",
    "print (x)"
   ]
  },
  {
   "cell_type": "markdown",
   "metadata": {},
   "source": [
    "## Lambda function:  anonymous function"
   ]
  },
  {
   "cell_type": "code",
   "execution_count": 16,
   "metadata": {
    "collapsed": false
   },
   "outputs": [
    {
     "name": "stdout",
     "output_type": "stream",
     "text": [
      "[1, 4, 9, 16]\n"
     ]
    }
   ],
   "source": [
    "numbers = (1, 2, 3, 4)\n",
    "result = map(lambda x: x*x, numbers)\n",
    "print(list(result))\n",
    "# syntax is \"lambda arguments: expression\""
   ]
  },
  {
   "cell_type": "markdown",
   "metadata": {},
   "source": [
    "## Indefinite Loop: while loop"
   ]
  },
  {
   "cell_type": "code",
   "execution_count": 17,
   "metadata": {
    "collapsed": false
   },
   "outputs": [
    {
     "name": "stdout",
     "output_type": "stream",
     "text": [
      "5\n",
      "4\n",
      "3\n",
      "2\n",
      "1\n",
      "done\n",
      "0\n"
     ]
    }
   ],
   "source": [
    "n=5 \n",
    "while n> 0:\n",
    "    print (n)\n",
    "    n= n-1\n",
    "print ('done')\n",
    "print (n)  # see n is 0 now"
   ]
  },
  {
   "cell_type": "markdown",
   "metadata": {},
   "source": [
    "## Definite Loop: for loop"
   ]
  },
  {
   "cell_type": "code",
   "execution_count": 19,
   "metadata": {
    "collapsed": false
   },
   "outputs": [
    {
     "name": "stdout",
     "output_type": "stream",
     "text": [
      "[0, 1]\n",
      "[0, 1]\n"
     ]
    }
   ],
   "source": [
    "yy = list()\n",
    "for x in [0,1,2]:\n",
    "    if x< 2:\n",
    "        yy.append(x)\n",
    "print(yy)   \n",
    "\n",
    "#another way to write for loop\n",
    "yy= [x for x in [0,1,2] if x<2 ]\n",
    "print(yy)  "
   ]
  },
  {
   "cell_type": "markdown",
   "metadata": {},
   "source": [
    "## Break loop"
   ]
  },
  {
   "cell_type": "code",
   "execution_count": 23,
   "metadata": {
    "collapsed": false
   },
   "outputs": [
    {
     "name": "stdout",
     "output_type": "stream",
     "text": [
      "text here#test\n",
      "text herestop\n",
      "finish\n"
     ]
    }
   ],
   "source": [
    "while True:\n",
    "    x = input('text here')\n",
    "    if x[0] == '#':\n",
    "        continue    # if input start with a #, it will skip out and go back to while\n",
    "    if x == 'stop':\n",
    "        break  # while loop will finished\n",
    "    print (x)\n",
    "print ('finish')"
   ]
  },
  {
   "cell_type": "markdown",
   "metadata": {},
   "source": [
    "## Some sample works in loop"
   ]
  },
  {
   "cell_type": "code",
   "execution_count": 32,
   "metadata": {
    "collapsed": false
   },
   "outputs": [
    {
     "name": "stdout",
     "output_type": "stream",
     "text": [
      "3.75\n",
      "a\n",
      "b\n",
      "c\n"
     ]
    }
   ],
   "source": [
    "# find avg by loop:\n",
    "sumup = None\n",
    "count = 0\n",
    "for xx in [1,2,3,4,5]:\n",
    "    if sumup is None:\n",
    "        sumup = xx\n",
    "    elif sumup is not None:\n",
    "        sumup = sumup + xx\n",
    "        count = count + 1\n",
    "print (sumup/count)\n",
    "\n",
    "# use sequency to find value:\n",
    "xx = ['a','b','c']    \n",
    "for i in range(len(xx)):       #len(xx): 3    #range(len(xx)): [0,1,2]\n",
    "    x = xx[i]\n",
    "    print(x)"
   ]
  },
  {
   "cell_type": "markdown",
   "metadata": {},
   "source": [
    "## Date and Time"
   ]
  },
  {
   "cell_type": "code",
   "execution_count": 40,
   "metadata": {
    "collapsed": false
   },
   "outputs": [
    {
     "name": "stdout",
     "output_type": "stream",
     "text": [
      "system_date is 1504816537.2644973\n",
      "system_date is 2017-09-07 16:35:37.264497\n",
      "2017-09-07\n",
      "2017-05-30\n"
     ]
    }
   ],
   "source": [
    "import datetime as dt\n",
    "import time as tm\n",
    "\n",
    "#Time:\n",
    "system_date =  tm.time()  \n",
    "print('system_date is',system_date)  #a number of date from 1970/1/1\n",
    "system_date_convert =  dt.datetime.fromtimestamp(system_date) \n",
    "print('system_date is',system_date_convert)\n",
    "#year-month-day hour:minute:second\n",
    "\n",
    "#Date:\n",
    "today =  dt.date.today()    \n",
    "print(today)\n",
    "delta =  dt.timedelta(days = 100)\n",
    "print(today - delta)  "
   ]
  }
 ],
 "metadata": {
  "anaconda-cloud": {},
  "kernelspec": {
   "display_name": "Python [default]",
   "language": "python",
   "name": "python3"
  },
  "language_info": {
   "codemirror_mode": {
    "name": "ipython",
    "version": 3
   },
   "file_extension": ".py",
   "mimetype": "text/x-python",
   "name": "python",
   "nbconvert_exporter": "python",
   "pygments_lexer": "ipython3",
   "version": "3.5.2"
  }
 },
 "nbformat": 4,
 "nbformat_minor": 1
}
