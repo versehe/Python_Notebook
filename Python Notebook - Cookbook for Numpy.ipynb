{
 "cells": [
  {
   "cell_type": "code",
   "execution_count": 1,
   "metadata": {
    "collapsed": true
   },
   "outputs": [],
   "source": [
    "# Numpy works mainly with arrays and matrix\n",
    "import numpy as np"
   ]
  },
  {
   "cell_type": "markdown",
   "metadata": {},
   "source": [
    "## Create Array"
   ]
  },
  {
   "cell_type": "code",
   "execution_count": 95,
   "metadata": {
    "collapsed": false
   },
   "outputs": [
    {
     "name": "stdout",
     "output_type": "stream",
     "text": [
      "[1 0 0]\n",
      "[[1 0 0]\n",
      " [3 2 2]]\n",
      "[[1 0 0]\n",
      " [0 1 0]]\n"
     ]
    }
   ],
   "source": [
    "#convert a list into array\n",
    "y = np.array([1,0,0]) \n",
    "print(y)\n",
    "y= np.array([y,y+2])\n",
    "print(y)\n",
    "#multi-dimension array\n",
    "y = np.array([[1,0,0],[0,1,0]])\n",
    "print(y)"
   ]
  },
  {
   "cell_type": "code",
   "execution_count": 122,
   "metadata": {
    "collapsed": false
   },
   "outputs": [
    {
     "name": "stdout",
     "output_type": "stream",
     "text": [
      "[ 0  2  4  6  8 10 12 14 16 18 20 22 24 26 28]\n",
      "[0 1 2 3 4 5 6 7 8 9]\n",
      "[ 0.  1.  2.  3.  4.  5.  6.  7.  8.  9.]\n",
      "[[8 1 2]\n",
      " [1 7 7]]\n"
     ]
    }
   ],
   "source": [
    "n= np.arange(0,30,2)  #(start, stop, interval)\n",
    "print(n)\n",
    "n = np.arange(10)\n",
    "print(n)\n",
    "n= np.linspace(0,9,10) #(start, stop, the numbers of values)\n",
    "print(n)\n",
    "\n",
    "n=np.random.randint(0,10,(2,3)) #(start, stop, dimensions) \n",
    "print(n)"
   ]
  },
  {
   "cell_type": "code",
   "execution_count": 22,
   "metadata": {
    "collapsed": false
   },
   "outputs": [
    {
     "name": "stdout",
     "output_type": "stream",
     "text": [
      "[[ 1.  1.]\n",
      " [ 1.  1.]\n",
      " [ 1.  1.]]\n",
      "[[ 0.  0.  0.]\n",
      " [ 0.  0.  0.]]\n",
      "[[ 1.  0.  0.]\n",
      " [ 0.  1.  0.]\n",
      " [ 0.  0.  1.]]\n"
     ]
    }
   ],
   "source": [
    "x=np.ones((3,2))\n",
    "print(x)\n",
    "x=np.zeros((2,3))\n",
    "print(x)\n",
    "\n",
    "#define vectors\n",
    "x=np.eye(3)\n",
    "print(x)"
   ]
  },
  {
   "cell_type": "code",
   "execution_count": 109,
   "metadata": {
    "collapsed": false
   },
   "outputs": [
    {
     "name": "stdout",
     "output_type": "stream",
     "text": [
      "[ 0.  1.  2.  3.  4.  5.  6.  7.  8.  9.]\n",
      "0.0 9.0 [ 0.  1.  2.]\n",
      "[ 5.  7.  9.]\n",
      "[ 0.  1.  2.  3.  4.]\n",
      "[[1 0 0]\n",
      " [0 1 0]]\n",
      "[1 0]\n"
     ]
    }
   ],
   "source": [
    "#index:\n",
    "print(n)\n",
    "print(n[0], n[-1], n[0:3])\n",
    "print(n[5::2]) # from 6 digit to end, interval by 2\n",
    "print(n[n<5])\n",
    "\n",
    "print(y)\n",
    "print(y[1,1:])"
   ]
  },
  {
   "cell_type": "markdown",
   "metadata": {},
   "source": [
    "# change array"
   ]
  },
  {
   "cell_type": "code",
   "execution_count": 76,
   "metadata": {
    "collapsed": false
   },
   "outputs": [
    {
     "name": "stdout",
     "output_type": "stream",
     "text": [
      "int32\n",
      "float32\n"
     ]
    }
   ],
   "source": [
    "#change data type\n",
    "print(x.dtype)\n",
    "x= x.astype('f')\n",
    "print(x.dtype)"
   ]
  },
  {
   "cell_type": "code",
   "execution_count": 73,
   "metadata": {
    "collapsed": false
   },
   "outputs": [
    {
     "name": "stdout",
     "output_type": "stream",
     "text": [
      "[ 0.  1.  2.  3.  4.  5.  6.  7.  8.  9.]\n",
      "[[ 0.  1.  2.  3.  4.]\n",
      " [ 5.  6.  7.  8.  9.]]\n",
      "(2, 5)\n",
      "[[ 0.  5.]\n",
      " [ 1.  6.]\n",
      " [ 2.  7.]\n",
      " [ 3.  8.]\n",
      " [ 4.  9.]]\n"
     ]
    }
   ],
   "source": [
    "n= np.linspace(0,9,10)\n",
    "print(n)\n",
    "\n",
    "#reshape an array into multi-dimension\n",
    "n= n.reshape(2,5)\n",
    "print(n)\n",
    "\n",
    "#check dimesion\n",
    "print(n.shape) \n",
    "\n",
    "#swap rows and columns\n",
    "print(n.T) "
   ]
  },
  {
   "cell_type": "code",
   "execution_count": 25,
   "metadata": {
    "collapsed": false
   },
   "outputs": [
    {
     "name": "stdout",
     "output_type": "stream",
     "text": [
      "[[ 0.   0.5  1. ]\n",
      " [ 1.5  2.   2.5]\n",
      " [ 3.   3.5  4. ]]\n",
      "[ 0.  2.  4.]\n"
     ]
    }
   ],
   "source": [
    "print(n)\n",
    "x=np.diag(n)\n",
    "print(x)\n",
    "# diag only show values in place"
   ]
  },
  {
   "cell_type": "code",
   "execution_count": 31,
   "metadata": {
    "collapsed": false
   },
   "outputs": [
    {
     "name": "stdout",
     "output_type": "stream",
     "text": [
      "[1 2 3 1 2 3 1 2 3]\n",
      "[1 1 1 2 2 2 3 3 3]\n"
     ]
    }
   ],
   "source": [
    "x=np.array([1,2,3]*3)\n",
    "print(x)\n",
    "x=np.repeat([1,2,3],3)\n",
    "print(x)"
   ]
  },
  {
   "cell_type": "code",
   "execution_count": 120,
   "metadata": {
    "collapsed": false
   },
   "outputs": [
    {
     "name": "stdout",
     "output_type": "stream",
     "text": [
      "[[ 0  1  2  3  4  5]\n",
      " [ 6  7  8  9 10 11]\n",
      " [12 13 14 15 16 17]\n",
      " [18 19 20 21 22 23]\n",
      " [24 25 26 27 28 29]\n",
      " [30 31 32 33 34 35]]\n",
      "[[ 0  1  2]\n",
      " [ 6  7  8]\n",
      " [12 13 14]]\n",
      "[[0 0 0]\n",
      " [0 0 0]\n",
      " [0 0 0]]\n",
      "[[ 0  0  0  3  4  5]\n",
      " [ 0  0  0  9 10 11]\n",
      " [ 0  0  0 15 16 17]\n",
      " [18 19 20 21 22 23]\n",
      " [24 25 26 27 28 29]\n",
      " [30 31 32 33 34 35]]\n",
      "[[10 10 10]\n",
      " [10 10 10]\n",
      " [10 10 10]]\n",
      "[[ 0  0  0  3  4  5]\n",
      " [ 0  0  0  9 10 11]\n",
      " [ 0  0  0 15 16 17]\n",
      " [18 19 20 21 22 23]\n",
      " [24 25 26 27 28 29]\n",
      " [30 31 32 33 34 35]]\n"
     ]
    }
   ],
   "source": [
    "r = np.arange(36)\n",
    "r= r.reshape(6,6)\n",
    "print(r)\n",
    "r1= r[:3,:3]\n",
    "print(r1)\n",
    "#change all values in r1 into 0\n",
    "r1[:] = 0\n",
    "print(r1)\n",
    "# values in r also changed\n",
    "print(r)\n",
    "\n",
    "r2= r1.copy()\n",
    "r2[:]= 10\n",
    "print(r2)\n",
    "print(r)\n",
    "#when use copy() function, r is not changed"
   ]
  },
  {
   "cell_type": "markdown",
   "metadata": {},
   "source": [
    "# array calculation"
   ]
  },
  {
   "cell_type": "code",
   "execution_count": 46,
   "metadata": {
    "collapsed": false
   },
   "outputs": [
    {
     "name": "stdout",
     "output_type": "stream",
     "text": [
      "[[ 1.  1.  1.]\n",
      " [ 1.  1.  1.]]\n",
      "[[ 2.  2.  2.]\n",
      " [ 2.  2.  2.]]\n",
      "[[ 3.  3.  3.]\n",
      " [ 3.  3.  3.]]\n",
      "[[ 4.  4.  4.]\n",
      " [ 4.  4.  4.]]\n"
     ]
    }
   ],
   "source": [
    "x= np.ones((2,3))\n",
    "print(x)\n",
    "y= x*2\n",
    "print(y)\n",
    "\n",
    "print(x+y)\n",
    "print(y**2)"
   ]
  },
  {
   "cell_type": "code",
   "execution_count": 91,
   "metadata": {
    "collapsed": false
   },
   "outputs": [
    {
     "name": "stdout",
     "output_type": "stream",
     "text": [
      "7 7\n"
     ]
    }
   ],
   "source": [
    "# dot product:\n",
    "a=np.array([3,1,0])\n",
    "b=np.array([2,1,1])\n",
    "x1= a.dot(b)\n",
    "x2= np.dot(a,b)\n",
    "print(x1, x2) #same functions"
   ]
  },
  {
   "cell_type": "markdown",
   "metadata": {},
   "source": [
    "dot product is the sum of all similar position products\n",
    "\n",
    "\n",
    "![alt text](afsdfsgsggsg.PNG )\n",
    "\n"
   ]
  },
  {
   "cell_type": "code",
   "execution_count": 92,
   "metadata": {
    "collapsed": false
   },
   "outputs": [
    {
     "name": "stdout",
     "output_type": "stream",
     "text": [
      "[3 1 0]\n",
      "3\n",
      "0\n",
      "0\n",
      "2\n",
      "1.33333333333\n",
      "1.24721912892\n",
      "4\n"
     ]
    }
   ],
   "source": [
    "print(a)\n",
    "\n",
    "#where is the max value?\n",
    "print(a.max())       #value\n",
    "print(a.argmax())    #location\n",
    "print(a.min())\n",
    "print(a.argmin()) \n",
    "\n",
    "print(a.mean())\n",
    "print(a.std())\n",
    "print(a.sum())"
   ]
  },
  {
   "cell_type": "markdown",
   "metadata": {},
   "source": [
    "# iterating over array"
   ]
  },
  {
   "cell_type": "code",
   "execution_count": 131,
   "metadata": {
    "collapsed": false
   },
   "outputs": [
    {
     "name": "stdout",
     "output_type": "stream",
     "text": [
      "[[8 1 2]\n",
      " [1 7 7]]\n",
      "[8 1 2]\n",
      "[1 7 7]\n",
      "range(0, 2)\n",
      "[8 1 2]\n",
      "[1 7 7]\n"
     ]
    }
   ],
   "source": [
    "print(n)\n",
    "\n",
    "for row in n:\n",
    "    print(row)\n",
    "    \n",
    "print(range(len(n)))\n",
    "for i in range(len(n)):\n",
    "    print(n[i])"
   ]
  },
  {
   "cell_type": "code",
   "execution_count": 133,
   "metadata": {
    "collapsed": false
   },
   "outputs": [
    {
     "name": "stdout",
     "output_type": "stream",
     "text": [
      "[[16  2  4]\n",
      " [ 2 14 14]]\n",
      "[16  2  4] + [8 1 2] = [24  3  6]\n",
      "[ 2 14 14] + [1 7 7] = [ 3 21 21]\n"
     ]
    }
   ],
   "source": [
    "m= n*2\n",
    "print(m)\n",
    "\n",
    "for x,y in zip(m,n):\n",
    "    print(x,'+',y,'=',x+y)"
   ]
  },
  {
   "cell_type": "code",
   "execution_count": null,
   "metadata": {
    "collapsed": true
   },
   "outputs": [],
   "source": []
  }
 ],
 "metadata": {
  "anaconda-cloud": {},
  "kernelspec": {
   "display_name": "Python [default]",
   "language": "python",
   "name": "python3"
  },
  "language_info": {
   "codemirror_mode": {
    "name": "ipython",
    "version": 3
   },
   "file_extension": ".py",
   "mimetype": "text/x-python",
   "name": "python",
   "nbconvert_exporter": "python",
   "pygments_lexer": "ipython3",
   "version": "3.5.2"
  }
 },
 "nbformat": 4,
 "nbformat_minor": 1
}
