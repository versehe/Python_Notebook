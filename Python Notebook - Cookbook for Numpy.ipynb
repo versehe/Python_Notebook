{
 "cells": [
  {
   "cell_type": "code",
   "execution_count": 7,
   "metadata": {
    "collapsed": true
   },
   "outputs": [],
   "source": [
    "# Numpy works mainly with arrays and matrix\n",
    "import numpy as np"
   ]
  },
  {
   "cell_type": "markdown",
   "metadata": {},
   "source": [
    "## Create Array"
   ]
  },
  {
   "cell_type": "code",
   "execution_count": 95,
   "metadata": {
    "collapsed": false
   },
   "outputs": [
    {
     "name": "stdout",
     "output_type": "stream",
     "text": [
      "[1 0 0]\n",
      "[[1 0 0]\n",
      " [3 2 2]]\n",
      "[[1 0 0]\n",
      " [0 1 0]]\n"
     ]
    }
   ],
   "source": [
    "#convert a list into array\n",
    "y = np.array([1,0,0]) \n",
    "print(y)\n",
    "y= np.array([y,y+2])\n",
    "print(y)\n",
    "#multi-dimension array\n",
    "y = np.array([[1,0,0],[0,1,0]])\n",
    "print(y)"
   ]
  },
  {
   "cell_type": "code",
   "execution_count": 122,
   "metadata": {
    "collapsed": false
   },
   "outputs": [
    {
     "name": "stdout",
     "output_type": "stream",
     "text": [
      "[ 0  2  4  6  8 10 12 14 16 18 20 22 24 26 28]\n",
      "[0 1 2 3 4 5 6 7 8 9]\n",
      "[ 0.  1.  2.  3.  4.  5.  6.  7.  8.  9.]\n",
      "[[8 1 2]\n",
      " [1 7 7]]\n"
     ]
    }
   ],
   "source": [
    "n= np.arange(0,30,2)  #(start, stop, interval)\n",
    "print(n)\n",
    "n = np.arange(10)\n",
    "print(n)\n",
    "n= np.linspace(0,9,10) #(start, stop, the numbers of values)\n",
    "print(n)\n",
    "\n",
    "n=np.random.randint(0,10,(2,3)) #(start, stop, dimensions) \n",
    "print(n)"
   ]
  },
  {
   "cell_type": "code",
   "execution_count": 22,
   "metadata": {
    "collapsed": false
   },
   "outputs": [
    {
     "name": "stdout",
     "output_type": "stream",
     "text": [
      "[[ 1.  1.]\n",
      " [ 1.  1.]\n",
      " [ 1.  1.]]\n",
      "[[ 0.  0.  0.]\n",
      " [ 0.  0.  0.]]\n",
      "[[ 1.  0.  0.]\n",
      " [ 0.  1.  0.]\n",
      " [ 0.  0.  1.]]\n"
     ]
    }
   ],
   "source": [
    "x=np.ones((3,2))\n",
    "print(x)\n",
    "x=np.zeros((2,3))\n",
    "print(x)\n",
    "\n",
    "#define vectors\n",
    "x=np.eye(3)\n",
    "print(x)"
   ]
  },
  {
   "cell_type": "code",
   "execution_count": 109,
   "metadata": {
    "collapsed": false
   },
   "outputs": [
    {
     "name": "stdout",
     "output_type": "stream",
     "text": [
      "[ 0.  1.  2.  3.  4.  5.  6.  7.  8.  9.]\n",
      "0.0 9.0 [ 0.  1.  2.]\n",
      "[ 5.  7.  9.]\n",
      "[ 0.  1.  2.  3.  4.]\n",
      "[[1 0 0]\n",
      " [0 1 0]]\n",
      "[1 0]\n"
     ]
    }
   ],
   "source": [
    "#index:\n",
    "print(n)\n",
    "print(n[0], n[-1], n[0:3])\n",
    "print(n[5::2]) # from 6 digit to end, interval by 2\n",
    "print(n[n<5])\n",
    "\n",
    "print(y)\n",
    "print(y[1,1:])"
   ]
  },
  {
   "cell_type": "markdown",
   "metadata": {},
   "source": [
    "# change array"
   ]
  },
  {
   "cell_type": "code",
   "execution_count": 76,
   "metadata": {
    "collapsed": false
   },
   "outputs": [
    {
     "name": "stdout",
     "output_type": "stream",
     "text": [
      "int32\n",
      "float32\n"
     ]
    }
   ],
   "source": [
    "#change data type\n",
    "print(x.dtype)\n",
    "x= x.astype('f')\n",
    "print(x.dtype)"
   ]
  },
  {
   "cell_type": "code",
   "execution_count": 73,
   "metadata": {
    "collapsed": false
   },
   "outputs": [
    {
     "name": "stdout",
     "output_type": "stream",
     "text": [
      "[ 0.  1.  2.  3.  4.  5.  6.  7.  8.  9.]\n",
      "[[ 0.  1.  2.  3.  4.]\n",
      " [ 5.  6.  7.  8.  9.]]\n",
      "(2, 5)\n",
      "[[ 0.  5.]\n",
      " [ 1.  6.]\n",
      " [ 2.  7.]\n",
      " [ 3.  8.]\n",
      " [ 4.  9.]]\n"
     ]
    }
   ],
   "source": [
    "n= np.linspace(0,9,10)\n",
    "print(n)\n",
    "\n",
    "#reshape an array into multi-dimension\n",
    "n= n.reshape(2,5)\n",
    "print(n)\n",
    "\n",
    "#check dimesion\n",
    "print(n.shape) \n",
    "\n",
    "#swap rows and columns\n",
    "print(n.T) "
   ]
  },
  {
   "cell_type": "code",
   "execution_count": 25,
   "metadata": {
    "collapsed": false
   },
   "outputs": [
    {
     "name": "stdout",
     "output_type": "stream",
     "text": [
      "[[ 0.   0.5  1. ]\n",
      " [ 1.5  2.   2.5]\n",
      " [ 3.   3.5  4. ]]\n",
      "[ 0.  2.  4.]\n"
     ]
    }
   ],
   "source": [
    "print(n)\n",
    "x=np.diag(n)\n",
    "print(x)\n",
    "# diag only show values in place"
   ]
  },
  {
   "cell_type": "code",
   "execution_count": 31,
   "metadata": {
    "collapsed": false
   },
   "outputs": [
    {
     "name": "stdout",
     "output_type": "stream",
     "text": [
      "[1 2 3 1 2 3 1 2 3]\n",
      "[1 1 1 2 2 2 3 3 3]\n"
     ]
    }
   ],
   "source": [
    "x=np.array([1,2,3]*3)\n",
    "print(x)\n",
    "x=np.repeat([1,2,3],3)\n",
    "print(x)"
   ]
  },
  {
   "cell_type": "code",
   "execution_count": 120,
   "metadata": {
    "collapsed": false
   },
   "outputs": [
    {
     "name": "stdout",
     "output_type": "stream",
     "text": [
      "[[ 0  1  2  3  4  5]\n",
      " [ 6  7  8  9 10 11]\n",
      " [12 13 14 15 16 17]\n",
      " [18 19 20 21 22 23]\n",
      " [24 25 26 27 28 29]\n",
      " [30 31 32 33 34 35]]\n",
      "[[ 0  1  2]\n",
      " [ 6  7  8]\n",
      " [12 13 14]]\n",
      "[[0 0 0]\n",
      " [0 0 0]\n",
      " [0 0 0]]\n",
      "[[ 0  0  0  3  4  5]\n",
      " [ 0  0  0  9 10 11]\n",
      " [ 0  0  0 15 16 17]\n",
      " [18 19 20 21 22 23]\n",
      " [24 25 26 27 28 29]\n",
      " [30 31 32 33 34 35]]\n",
      "[[10 10 10]\n",
      " [10 10 10]\n",
      " [10 10 10]]\n",
      "[[ 0  0  0  3  4  5]\n",
      " [ 0  0  0  9 10 11]\n",
      " [ 0  0  0 15 16 17]\n",
      " [18 19 20 21 22 23]\n",
      " [24 25 26 27 28 29]\n",
      " [30 31 32 33 34 35]]\n"
     ]
    }
   ],
   "source": [
    "r = np.arange(36)\n",
    "r= r.reshape(6,6)\n",
    "print(r)\n",
    "r1= r[:3,:3]\n",
    "print(r1)\n",
    "#change all values in r1 into 0\n",
    "r1[:] = 0\n",
    "print(r1)\n",
    "# values in r also changed\n",
    "print(r)\n",
    "\n",
    "r2= r1.copy()\n",
    "r2[:]= 10\n",
    "print(r2)\n",
    "print(r)\n",
    "#when use copy() function, r is not changed"
   ]
  },
  {
   "cell_type": "markdown",
   "metadata": {},
   "source": [
    "# array calculation"
   ]
  },
  {
   "cell_type": "code",
   "execution_count": 46,
   "metadata": {
    "collapsed": false
   },
   "outputs": [
    {
     "name": "stdout",
     "output_type": "stream",
     "text": [
      "[[ 1.  1.  1.]\n",
      " [ 1.  1.  1.]]\n",
      "[[ 2.  2.  2.]\n",
      " [ 2.  2.  2.]]\n",
      "[[ 3.  3.  3.]\n",
      " [ 3.  3.  3.]]\n",
      "[[ 4.  4.  4.]\n",
      " [ 4.  4.  4.]]\n"
     ]
    }
   ],
   "source": [
    "x= np.ones((2,3))\n",
    "print(x)\n",
    "y= x*2\n",
    "print(y)\n",
    "\n",
    "print(x+y)\n",
    "print(y**2)"
   ]
  },
  {
   "cell_type": "code",
   "execution_count": 91,
   "metadata": {
    "collapsed": false
   },
   "outputs": [
    {
     "name": "stdout",
     "output_type": "stream",
     "text": [
      "7 7\n"
     ]
    }
   ],
   "source": [
    "# dot product:\n",
    "a=np.array([3,1,0])\n",
    "b=np.array([2,1,1])\n",
    "x1= a.dot(b)\n",
    "x2= np.dot(a,b)\n",
    "print(x1, x2) #same functions"
   ]
  },
  {
   "cell_type": "markdown",
   "metadata": {},
   "source": [
    "dot product is the sum of all similar position products\n",
    "\n",
    "\n",
    "![alt text](afsdfsgsggsg.PNG )\n",
    "\n"
   ]
  },
  {
   "cell_type": "code",
   "execution_count": 92,
   "metadata": {
    "collapsed": false
   },
   "outputs": [
    {
     "name": "stdout",
     "output_type": "stream",
     "text": [
      "[3 1 0]\n",
      "3\n",
      "0\n",
      "0\n",
      "2\n",
      "1.33333333333\n",
      "1.24721912892\n",
      "4\n"
     ]
    }
   ],
   "source": [
    "print(a)\n",
    "\n",
    "#where is the max value?\n",
    "print(a.max())       #value\n",
    "print(a.argmax())    #location\n",
    "print(a.min())\n",
    "print(a.argmin()) \n",
    "\n",
    "print(a.mean())\n",
    "print(a.std())\n",
    "print(a.sum())"
   ]
  },
  {
   "cell_type": "markdown",
   "metadata": {},
   "source": [
    "# iterating over array"
   ]
  },
  {
   "cell_type": "code",
   "execution_count": 131,
   "metadata": {
    "collapsed": false
   },
   "outputs": [
    {
     "name": "stdout",
     "output_type": "stream",
     "text": [
      "[[8 1 2]\n",
      " [1 7 7]]\n",
      "[8 1 2]\n",
      "[1 7 7]\n",
      "range(0, 2)\n",
      "[8 1 2]\n",
      "[1 7 7]\n"
     ]
    }
   ],
   "source": [
    "print(n)\n",
    "\n",
    "for row in n:\n",
    "    print(row)\n",
    "    \n",
    "print(range(len(n)))\n",
    "for i in range(len(n)):\n",
    "    print(n[i])"
   ]
  },
  {
   "cell_type": "code",
   "execution_count": 133,
   "metadata": {
    "collapsed": false
   },
   "outputs": [
    {
     "name": "stdout",
     "output_type": "stream",
     "text": [
      "[[16  2  4]\n",
      " [ 2 14 14]]\n",
      "[16  2  4] + [8 1 2] = [24  3  6]\n",
      "[ 2 14 14] + [1 7 7] = [ 3 21 21]\n"
     ]
    }
   ],
   "source": [
    "m= n*2\n",
    "print(m)\n",
    "\n",
    "for x,y in zip(m,n):\n",
    "    print(x,'+',y,'=',x+y)"
   ]
  },
  {
   "cell_type": "markdown",
   "metadata": {
    "collapsed": true
   },
   "source": [
    "## Distribution"
   ]
  },
  {
   "cell_type": "code",
   "execution_count": 8,
   "metadata": {
    "collapsed": false
   },
   "outputs": [
    {
     "name": "stdout",
     "output_type": "stream",
     "text": [
      "binomial is a binary distribution: yes or no\n"
     ]
    },
    {
     "data": {
      "text/plain": [
       "0.495"
      ]
     },
     "execution_count": 8,
     "metadata": {},
     "output_type": "execute_result"
    }
   ],
   "source": [
    "print('binomial is a binary distribution: yes or no')\n",
    "np.random.binomial(1000,0.5)/1000\n",
    "# (run 1000 times, 50% to get 0)"
   ]
  },
  {
   "cell_type": "code",
   "execution_count": 9,
   "metadata": {
    "collapsed": false
   },
   "outputs": [
    {
     "data": {
      "text/plain": [
       "array([ 0.76987688,  0.60176259,  1.96310856,  0.56575838,  2.07892495,\n",
       "       -0.54137669, -0.73252542,  1.3070077 , -0.49991286,  0.57713134,\n",
       "       -0.0103932 , -0.06559995,  2.81853988,  1.2092406 ,  1.4074223 ,\n",
       "        1.53915096,  1.83187395, -1.06110105,  0.61551884,  1.23629784,\n",
       "        0.93252736, -3.09807233,  0.2178406 ,  1.40251557,  1.9330069 ,\n",
       "       -0.31293782,  1.06009479, -0.15942074,  1.75426676,  0.69295557,\n",
       "        2.11787656,  0.67450954, -0.3175819 ,  1.76194063,  2.49894363,\n",
       "        0.26641149,  1.69597163, -0.7727651 , -0.00919138, -0.39466583,\n",
       "        0.61481423, -0.1220259 , -0.71791205,  0.21469855,  0.85325159,\n",
       "        1.02624759,  0.97376432,  0.03808031, -1.54524461,  1.17576007,\n",
       "       -0.1498987 ,  0.79370211,  0.58925254, -0.87348008,  0.98534251,\n",
       "        0.12839641, -0.32313764,  0.57046093,  0.42626844,  0.10235678,\n",
       "        0.68688458,  1.08311692,  0.04309   ,  1.21667794, -0.03865815,\n",
       "       -0.04306096, -0.62298893,  1.36122854, -0.02853953,  0.76234849,\n",
       "        0.80681121,  2.23765601,  0.90489974, -0.09406421,  1.95023982,\n",
       "        1.66649953,  0.5395392 , -0.35905412, -0.77631583,  0.81607565,\n",
       "        2.29396818,  0.65158805,  1.7955748 ,  0.33023576,  1.34366369,\n",
       "        0.44366622,  2.08535894,  0.52093332,  1.72481808,  1.62468005,\n",
       "        0.91689155,  0.83340382,  1.19663496, -0.05048826,  1.03434129,\n",
       "       -1.70901698,  2.11492897,  2.10385796,  1.56017665,  1.91908648])"
      ]
     },
     "execution_count": 9,
     "metadata": {},
     "output_type": "execute_result"
    }
   ],
   "source": [
    "#normal distribution\n",
    "distribution = np.random.normal(0.75, size =100)\n",
    "# 0.75 is expected value( mean)\n",
    "distribution"
   ]
  },
  {
   "cell_type": "code",
   "execution_count": 6,
   "metadata": {
    "collapsed": false
   },
   "outputs": [
    {
     "data": {
      "text/plain": [
       "1.0062925229652679"
      ]
     },
     "execution_count": 6,
     "metadata": {},
     "output_type": "execute_result"
    }
   ],
   "source": [
    "np.std(distribution)"
   ]
  },
  {
   "cell_type": "markdown",
   "metadata": {
    "collapsed": true
   },
   "source": [
    "## A/B Testing: Hypothesis test"
   ]
  },
  {
   "cell_type": "code",
   "execution_count": 10,
   "metadata": {
    "collapsed": true
   },
   "outputs": [],
   "source": [
    "distribution2 = np.random.normal(0.74, size =100)"
   ]
  },
  {
   "cell_type": "code",
   "execution_count": 11,
   "metadata": {
    "collapsed": false
   },
   "outputs": [
    {
     "name": "stdout",
     "output_type": "stream",
     "text": [
      "Alternative hypothsis: distribution has similar expected value as distribution2\n",
      "Null hypothsis: distribution has different expected value as distribution2\n",
      "Confidence level: 0.05\n"
     ]
    }
   ],
   "source": [
    "print(\"Alternative hypothsis: distribution has similar expected value as distribution2\")\n",
    "print(\"Null hypothsis: distribution has different expected value as distribution2\")\n",
    "print('Confidence level: 0.05')"
   ]
  },
  {
   "cell_type": "code",
   "execution_count": 12,
   "metadata": {
    "collapsed": false
   },
   "outputs": [
    {
     "data": {
      "text/plain": [
       "Ttest_indResult(statistic=-0.72467273054923931, pvalue=0.46950830167945401)"
      ]
     },
     "execution_count": 12,
     "metadata": {},
     "output_type": "execute_result"
    }
   ],
   "source": [
    "from scipy import stats\n",
    "\n",
    "stats.ttest_ind(distribution,distribution2)"
   ]
  },
  {
   "cell_type": "code",
   "execution_count": 13,
   "metadata": {
    "collapsed": false
   },
   "outputs": [
    {
     "name": "stdout",
     "output_type": "stream",
     "text": [
      "P-value is large than 0.05, can't reject null hypothesis\n",
      "Conclusion:distribution has a different mean as distribution 2\n"
     ]
    }
   ],
   "source": [
    "print(\"P-value is large than 0.05, can't reject null hypothesis\")\n",
    "print(\"Conclusion:distribution has a different mean as distribution 2\")"
   ]
  },
  {
   "cell_type": "code",
   "execution_count": null,
   "metadata": {
    "collapsed": true
   },
   "outputs": [],
   "source": []
  }
 ],
 "metadata": {
  "anaconda-cloud": {},
  "kernelspec": {
   "display_name": "Python [default]",
   "language": "python",
   "name": "python3"
  },
  "language_info": {
   "codemirror_mode": {
    "name": "ipython",
    "version": 3
   },
   "file_extension": ".py",
   "mimetype": "text/x-python",
   "name": "python",
   "nbconvert_exporter": "python",
   "pygments_lexer": "ipython3",
   "version": "3.5.2"
  }
 },
 "nbformat": 4,
 "nbformat_minor": 1
}
