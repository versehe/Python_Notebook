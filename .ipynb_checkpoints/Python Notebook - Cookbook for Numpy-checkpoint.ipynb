{
 "cells": [
  {
   "cell_type": "code",
   "execution_count": 1,
   "metadata": {
    "collapsed": true
   },
   "outputs": [],
   "source": [
    "# Numpy works mainly with arrays and matrix\n",
    "import numpy as np"
   ]
  },
  {
   "cell_type": "markdown",
   "metadata": {},
   "source": [
    "## Create Array"
   ]
  },
  {
   "cell_type": "code",
   "execution_count": 95,
   "metadata": {
    "collapsed": false
   },
   "outputs": [
    {
     "name": "stdout",
     "output_type": "stream",
     "text": [
      "[1 0 0]\n",
      "[[1 0 0]\n",
      " [3 2 2]]\n",
      "[[1 0 0]\n",
      " [0 1 0]]\n"
     ]
    }
   ],
   "source": [
    "#convert a list into array\n",
    "y = np.array([1,0,0]) \n",
    "print(y)\n",
    "y= np.array([y,y+2])\n",
    "print(y)\n",
    "#multi-dimension array\n",
    "y = np.array([[1,0,0],[0,1,0]])\n",
    "print(y)"
   ]
  },
  {
   "cell_type": "code",
   "execution_count": 122,
   "metadata": {
    "collapsed": false
   },
   "outputs": [
    {
     "name": "stdout",
     "output_type": "stream",
     "text": [
      "[ 0  2  4  6  8 10 12 14 16 18 20 22 24 26 28]\n",
      "[0 1 2 3 4 5 6 7 8 9]\n",
      "[ 0.  1.  2.  3.  4.  5.  6.  7.  8.  9.]\n",
      "[[8 1 2]\n",
      " [1 7 7]]\n"
     ]
    }
   ],
   "source": [
    "n= np.arange(0,30,2)  #(start, stop, interval)\n",
    "print(n)\n",
    "n = np.arange(10)\n",
    "print(n)\n",
    "n= np.linspace(0,9,10) #(start, stop, the numbers of values)\n",
    "print(n)\n",
    "\n",
    "n=np.random.randint(0,10,(2,3)) #(start, stop, dimensions) \n",
    "print(n)"
   ]
  },
  {
   "cell_type": "code",
   "execution_count": 22,
   "metadata": {
    "collapsed": false
   },
   "outputs": [
    {
     "name": "stdout",
     "output_type": "stream",
     "text": [
      "[[ 1.  1.]\n",
      " [ 1.  1.]\n",
      " [ 1.  1.]]\n",
      "[[ 0.  0.  0.]\n",
      " [ 0.  0.  0.]]\n",
      "[[ 1.  0.  0.]\n",
      " [ 0.  1.  0.]\n",
      " [ 0.  0.  1.]]\n"
     ]
    }
   ],
   "source": [
    "x=np.ones((3,2))\n",
    "print(x)\n",
    "x=np.zeros((2,3))\n",
    "print(x)\n",
    "\n",
    "#define vectors\n",
    "x=np.eye(3)\n",
    "print(x)"
   ]
  },
  {
   "cell_type": "code",
   "execution_count": 109,
   "metadata": {
    "collapsed": false
   },
   "outputs": [
    {
     "name": "stdout",
     "output_type": "stream",
     "text": [
      "[ 0.  1.  2.  3.  4.  5.  6.  7.  8.  9.]\n",
      "0.0 9.0 [ 0.  1.  2.]\n",
      "[ 5.  7.  9.]\n",
      "[ 0.  1.  2.  3.  4.]\n",
      "[[1 0 0]\n",
      " [0 1 0]]\n",
      "[1 0]\n"
     ]
    }
   ],
   "source": [
    "#index:\n",
    "print(n)\n",
    "print(n[0], n[-1], n[0:3])\n",
    "print(n[5::2]) # from 6 digit to end, interval by 2\n",
    "print(n[n<5])\n",
    "\n",
    "print(y)\n",
    "print(y[1,1:])"
   ]
  },
  {
   "cell_type": "code",
   "execution_count": 12,
   "metadata": {
    "collapsed": false
   },
   "outputs": [
    {
     "name": "stdout",
     "output_type": "stream",
     "text": [
      "[[1 0 0]\n",
      " [0 2 0]\n",
      " [0 0 3]]\n"
     ]
    },
    {
     "data": {
      "text/plain": [
       "array([[1, 0, 0],\n",
       "       [0, 1, 0],\n",
       "       [0, 0, 1]])"
      ]
     },
     "execution_count": 12,
     "metadata": {},
     "output_type": "execute_result"
    }
   ],
   "source": [
    "# Diagonal Matrix: a square matrix that has value on diagonal and all off-diagonal values are zero\n",
    "print(np.diag([1,2,3]))\n",
    "\n",
    "\n",
    "# Identity Matrix: a diagonal matrix with all diagonal values as 1\n",
    "np.identity(3,dtype=np.int)"
   ]
  },
  {
   "cell_type": "markdown",
   "metadata": {},
   "source": [
    "# change array"
   ]
  },
  {
   "cell_type": "code",
   "execution_count": 76,
   "metadata": {
    "collapsed": false
   },
   "outputs": [
    {
     "name": "stdout",
     "output_type": "stream",
     "text": [
      "int32\n",
      "float32\n"
     ]
    }
   ],
   "source": [
    "#change data type\n",
    "print(x.dtype)\n",
    "x= x.astype('f')\n",
    "print(x.dtype)"
   ]
  },
  {
   "cell_type": "code",
   "execution_count": 5,
   "metadata": {
    "collapsed": false
   },
   "outputs": [
    {
     "name": "stdout",
     "output_type": "stream",
     "text": [
      "[ 0.  1.  2.  3.  4.  5.  6.  7.  8.  9.]\n",
      "[[ 0.  1.  2.  3.  4.]\n",
      " [ 5.  6.  7.  8.  9.]]\n",
      "(2, 5)\n",
      "[[ 0.  5.]\n",
      " [ 1.  6.]\n",
      " [ 2.  7.]\n",
      " [ 3.  8.]\n",
      " [ 4.  9.]]\n"
     ]
    }
   ],
   "source": [
    "n= np.linspace(0,9,10)\n",
    "print(n)\n",
    "\n",
    "#reshape an array into multi-dimension\n",
    "n= n.reshape(2,5)\n",
    "print(n)\n",
    "\n",
    "#check dimesion\n",
    "print(n.shape) \n",
    "\n",
    "#swap rows and columns\n",
    "print(np.transpose(n)) ## same as n.T"
   ]
  },
  {
   "cell_type": "code",
   "execution_count": 25,
   "metadata": {
    "collapsed": false
   },
   "outputs": [
    {
     "name": "stdout",
     "output_type": "stream",
     "text": [
      "[[ 0.   0.5  1. ]\n",
      " [ 1.5  2.   2.5]\n",
      " [ 3.   3.5  4. ]]\n",
      "[ 0.  2.  4.]\n"
     ]
    }
   ],
   "source": [
    "print(n)\n",
    "x=np.diag(n)\n",
    "print(x)\n",
    "# diag only show values in place"
   ]
  },
  {
   "cell_type": "code",
   "execution_count": 31,
   "metadata": {
    "collapsed": false
   },
   "outputs": [
    {
     "name": "stdout",
     "output_type": "stream",
     "text": [
      "[1 2 3 1 2 3 1 2 3]\n",
      "[1 1 1 2 2 2 3 3 3]\n"
     ]
    }
   ],
   "source": [
    "x=np.array([1,2,3]*3)\n",
    "print(x)\n",
    "x=np.repeat([1,2,3],3)\n",
    "print(x)"
   ]
  },
  {
   "cell_type": "code",
   "execution_count": 120,
   "metadata": {
    "collapsed": false
   },
   "outputs": [
    {
     "name": "stdout",
     "output_type": "stream",
     "text": [
      "[[ 0  1  2  3  4  5]\n",
      " [ 6  7  8  9 10 11]\n",
      " [12 13 14 15 16 17]\n",
      " [18 19 20 21 22 23]\n",
      " [24 25 26 27 28 29]\n",
      " [30 31 32 33 34 35]]\n",
      "[[ 0  1  2]\n",
      " [ 6  7  8]\n",
      " [12 13 14]]\n",
      "[[0 0 0]\n",
      " [0 0 0]\n",
      " [0 0 0]]\n",
      "[[ 0  0  0  3  4  5]\n",
      " [ 0  0  0  9 10 11]\n",
      " [ 0  0  0 15 16 17]\n",
      " [18 19 20 21 22 23]\n",
      " [24 25 26 27 28 29]\n",
      " [30 31 32 33 34 35]]\n",
      "[[10 10 10]\n",
      " [10 10 10]\n",
      " [10 10 10]]\n",
      "[[ 0  0  0  3  4  5]\n",
      " [ 0  0  0  9 10 11]\n",
      " [ 0  0  0 15 16 17]\n",
      " [18 19 20 21 22 23]\n",
      " [24 25 26 27 28 29]\n",
      " [30 31 32 33 34 35]]\n"
     ]
    }
   ],
   "source": [
    "r = np.arange(36)\n",
    "r= r.reshape(6,6)\n",
    "print(r)\n",
    "r1= r[:3,:3]\n",
    "print(r1)\n",
    "#change all values in r1 into 0\n",
    "r1[:] = 0\n",
    "print(r1)\n",
    "# values in r also changed\n",
    "print(r)\n",
    "\n",
    "r2= r1.copy()\n",
    "r2[:]= 10\n",
    "print(r2)\n",
    "print(r)\n",
    "#when use copy() function, r is not changed"
   ]
  },
  {
   "cell_type": "markdown",
   "metadata": {},
   "source": [
    "# array calculation"
   ]
  },
  {
   "cell_type": "code",
   "execution_count": 6,
   "metadata": {
    "collapsed": false
   },
   "outputs": [
    {
     "name": "stdout",
     "output_type": "stream",
     "text": [
      "[[ 1.  1.  1.]\n",
      " [ 1.  1.  1.]]\n",
      "[[ 2.  2.  2.]\n",
      " [ 2.  2.  2.]]\n",
      "[[ 3.  3.  3.]\n",
      " [ 3.  3.  3.]]\n",
      "[[ 4.  4.  4.]\n",
      " [ 4.  4.  4.]]\n"
     ]
    }
   ],
   "source": [
    "x= np.ones((2,3))\n",
    "print(x)\n",
    "y= x*2\n",
    "print(y)\n",
    "\n",
    "print(x+y)\n",
    "print(y**2)"
   ]
  },
  {
   "cell_type": "code",
   "execution_count": 7,
   "metadata": {
    "collapsed": false
   },
   "outputs": [
    {
     "name": "stdout",
     "output_type": "stream",
     "text": [
      "[[ 2.  2.  2.]\n",
      " [ 2.  2.  2.]]\n"
     ]
    }
   ],
   "source": [
    "print(x*y)"
   ]
  },
  {
   "cell_type": "markdown",
   "metadata": {},
   "source": [
    "![alt text](screenshots/matrix multiple.PNG )"
   ]
  },
  {
   "cell_type": "code",
   "execution_count": 91,
   "metadata": {
    "collapsed": false
   },
   "outputs": [
    {
     "name": "stdout",
     "output_type": "stream",
     "text": [
      "7 7\n"
     ]
    }
   ],
   "source": [
    "# dot product:\n",
    "a=np.array([3,1,0])\n",
    "b=np.array([2,1,1])\n",
    "x1= a.dot(b)\n",
    "x2= np.dot(a,b)\n",
    "print(x1, x2) #same functions"
   ]
  },
  {
   "cell_type": "markdown",
   "metadata": {},
   "source": [
    "dot product is the sum of all similar position products\n",
    "\n",
    "\n",
    "![alt text](screenshots/afsdfsgsggsg.PNG )\n",
    "\n"
   ]
  },
  {
   "cell_type": "code",
   "execution_count": 92,
   "metadata": {
    "collapsed": false
   },
   "outputs": [
    {
     "name": "stdout",
     "output_type": "stream",
     "text": [
      "[3 1 0]\n",
      "3\n",
      "0\n",
      "0\n",
      "2\n",
      "1.33333333333\n",
      "1.24721912892\n",
      "4\n"
     ]
    }
   ],
   "source": [
    "print(a)\n",
    "\n",
    "#where is the max value?\n",
    "print(a.max())       #value\n",
    "print(a.argmax())    #location\n",
    "print(a.min())\n",
    "print(a.argmin()) \n",
    "\n",
    "print(a.mean())\n",
    "print(a.std())\n",
    "print(a.sum())"
   ]
  },
  {
   "cell_type": "code",
   "execution_count": 10,
   "metadata": {
    "collapsed": false
   },
   "outputs": [
    {
     "name": "stdout",
     "output_type": "stream",
     "text": [
      "[[ 0.70421985]\n",
      " [ 0.59734668]\n",
      " [ 0.23437774]\n",
      " [ 0.47800893]\n",
      " [ 0.82262947]]\n",
      "[[1]\n",
      " [3]\n",
      " [5]\n",
      " [3]\n",
      " [2]]\n"
     ]
    },
    {
     "name": "stderr",
     "output_type": "stream",
     "text": [
      "E:\\python\\lib\\site-packages\\ipykernel\\__main__.py:2: DeprecationWarning: This function is deprecated. Please call randint(1, 5 + 1) instead\n",
      "  from ipykernel import kernelapp as app\n"
     ]
    }
   ],
   "source": [
    "print(np.random.random((5,1)))\n",
    "print(np.random.random_integers(1,5,size=(5,1)))"
   ]
  },
  {
   "cell_type": "markdown",
   "metadata": {},
   "source": [
    "# iterating over array"
   ]
  },
  {
   "cell_type": "code",
   "execution_count": 131,
   "metadata": {
    "collapsed": false
   },
   "outputs": [
    {
     "name": "stdout",
     "output_type": "stream",
     "text": [
      "[[8 1 2]\n",
      " [1 7 7]]\n",
      "[8 1 2]\n",
      "[1 7 7]\n",
      "range(0, 2)\n",
      "[8 1 2]\n",
      "[1 7 7]\n"
     ]
    }
   ],
   "source": [
    "print(n)\n",
    "\n",
    "for row in n:\n",
    "    print(row)\n",
    "    \n",
    "print(range(len(n)))\n",
    "for i in range(len(n)):\n",
    "    print(n[i])"
   ]
  },
  {
   "cell_type": "code",
   "execution_count": 133,
   "metadata": {
    "collapsed": false
   },
   "outputs": [
    {
     "name": "stdout",
     "output_type": "stream",
     "text": [
      "[[16  2  4]\n",
      " [ 2 14 14]]\n",
      "[16  2  4] + [8 1 2] = [24  3  6]\n",
      "[ 2 14 14] + [1 7 7] = [ 3 21 21]\n"
     ]
    }
   ],
   "source": [
    "m= n*2\n",
    "print(m)\n",
    "\n",
    "for x,y in zip(m,n):\n",
    "    print(x,'+',y,'=',x+y)"
   ]
  },
  {
   "cell_type": "markdown",
   "metadata": {
    "collapsed": true
   },
   "source": [
    "## Distribution"
   ]
  },
  {
   "cell_type": "code",
   "execution_count": 8,
   "metadata": {
    "collapsed": false
   },
   "outputs": [
    {
     "name": "stdout",
     "output_type": "stream",
     "text": [
      "binomial is a binary distribution: yes or no\n"
     ]
    },
    {
     "data": {
      "text/plain": [
       "0.495"
      ]
     },
     "execution_count": 8,
     "metadata": {},
     "output_type": "execute_result"
    }
   ],
   "source": [
    "print('binomial is a binary distribution: yes or no')\n",
    "np.random.binomial(1000,0.5)/1000\n",
    "# (run 1000 times, 50% to get 0)"
   ]
  },
  {
   "cell_type": "code",
   "execution_count": 14,
   "metadata": {
    "collapsed": false
   },
   "outputs": [
    {
     "data": {
      "text/plain": [
       "array([ 1.30527164, -0.85570752,  2.40264385, -0.49351391,  0.88244592,\n",
       "        1.11151562, -0.60608266, -0.31879693,  0.74568724,  0.35963072,\n",
       "        0.49475923,  0.23389321,  1.31776948,  0.97384797,  1.13516558,\n",
       "        0.68294091,  0.26482235,  1.05812224,  1.59631636, -0.6932243 ,\n",
       "        0.52052791,  1.26974823, -0.40326611, -0.18444431, -0.65631171,\n",
       "        0.87624983,  0.22672468,  0.57932323,  1.07653161, -0.09902747,\n",
       "       -0.31957651, -0.12713357,  1.03414285,  0.75876216, -0.18401086,\n",
       "        1.39928279, -0.62990873, -0.41268424,  1.7425802 ,  2.33749876,\n",
       "        3.3017257 ,  1.65560192,  1.14087184,  1.13438736,  0.24216223,\n",
       "        0.24676073,  0.61894779,  1.15376341,  0.74451289,  0.48103571,\n",
       "        0.86211868,  0.29002148,  0.2138302 ,  0.44629799,  0.00779774,\n",
       "       -0.53565897, -0.49629933,  1.66159857,  0.69413843,  2.68804909,\n",
       "        2.3092506 ,  1.97833037, -0.88613667,  0.44161772,  0.4567489 ,\n",
       "       -0.7370627 , -0.54717072, -0.5033116 ,  0.46310148, -0.20523285,\n",
       "        0.61093213,  0.49078786,  1.52948835,  2.27939924, -0.93004159,\n",
       "       -0.05320238, -0.71785623,  1.55213211,  0.49536976, -0.8510492 ,\n",
       "       -0.22881375, -0.29845195,  0.65774332,  1.06446797,  0.21842302,\n",
       "        1.00855672,  0.7198599 ,  0.64249999,  0.94409104, -0.08803008,\n",
       "        0.23535322,  1.21263685, -0.73443422,  2.74373982, -0.30323259,\n",
       "        0.40606748,  1.169878  ,  0.60721543,  1.25048688, -0.16076857])"
      ]
     },
     "execution_count": 14,
     "metadata": {},
     "output_type": "execute_result"
    }
   ],
   "source": [
    "#normal distribution\n",
    "distribution = np.random.normal(0.75, size =100)\n",
    "# 0.75 is expected value( mean)\n",
    "distribution"
   ]
  },
  {
   "cell_type": "code",
   "execution_count": 6,
   "metadata": {
    "collapsed": false
   },
   "outputs": [
    {
     "data": {
      "text/plain": [
       "1.0062925229652679"
      ]
     },
     "execution_count": 6,
     "metadata": {},
     "output_type": "execute_result"
    }
   ],
   "source": [
    "np.std(distribution)"
   ]
  },
  {
   "cell_type": "markdown",
   "metadata": {},
   "source": [
    "## Save and Load Files"
   ]
  },
  {
   "cell_type": "code",
   "execution_count": 17,
   "metadata": {
    "collapsed": true
   },
   "outputs": [],
   "source": [
    "np.savetxt('example.txt',distribution,delimiter=',')"
   ]
  },
  {
   "cell_type": "code",
   "execution_count": 18,
   "metadata": {
    "collapsed": false
   },
   "outputs": [
    {
     "data": {
      "text/plain": [
       "array([ 1.30527164, -0.85570752,  2.40264385, -0.49351391,  0.88244592,\n",
       "        1.11151562, -0.60608266, -0.31879693,  0.74568724,  0.35963072,\n",
       "        0.49475923,  0.23389321,  1.31776948,  0.97384797,  1.13516558,\n",
       "        0.68294091,  0.26482235,  1.05812224,  1.59631636, -0.6932243 ,\n",
       "        0.52052791,  1.26974823, -0.40326611, -0.18444431, -0.65631171,\n",
       "        0.87624983,  0.22672468,  0.57932323,  1.07653161, -0.09902747,\n",
       "       -0.31957651, -0.12713357,  1.03414285,  0.75876216, -0.18401086,\n",
       "        1.39928279, -0.62990873, -0.41268424,  1.7425802 ,  2.33749876,\n",
       "        3.3017257 ,  1.65560192,  1.14087184,  1.13438736,  0.24216223,\n",
       "        0.24676073,  0.61894779,  1.15376341,  0.74451289,  0.48103571,\n",
       "        0.86211868,  0.29002148,  0.2138302 ,  0.44629799,  0.00779774,\n",
       "       -0.53565897, -0.49629933,  1.66159857,  0.69413843,  2.68804909,\n",
       "        2.3092506 ,  1.97833037, -0.88613667,  0.44161772,  0.4567489 ,\n",
       "       -0.7370627 , -0.54717072, -0.5033116 ,  0.46310148, -0.20523285,\n",
       "        0.61093213,  0.49078786,  1.52948835,  2.27939924, -0.93004159,\n",
       "       -0.05320238, -0.71785623,  1.55213211,  0.49536976, -0.8510492 ,\n",
       "       -0.22881375, -0.29845195,  0.65774332,  1.06446797,  0.21842302,\n",
       "        1.00855672,  0.7198599 ,  0.64249999,  0.94409104, -0.08803008,\n",
       "        0.23535322,  1.21263685, -0.73443422,  2.74373982, -0.30323259,\n",
       "        0.40606748,  1.169878  ,  0.60721543,  1.25048688, -0.16076857])"
      ]
     },
     "execution_count": 18,
     "metadata": {},
     "output_type": "execute_result"
    }
   ],
   "source": [
    "dist = np.loadtxt('example.txt',delimiter=',')\n",
    "dist"
   ]
  },
  {
   "cell_type": "markdown",
   "metadata": {
    "collapsed": true
   },
   "source": [
    "## A/B Testing: Hypothesis test"
   ]
  },
  {
   "cell_type": "code",
   "execution_count": 10,
   "metadata": {
    "collapsed": true
   },
   "outputs": [],
   "source": [
    "distribution2 = np.random.normal(0.74, size =100)"
   ]
  },
  {
   "cell_type": "code",
   "execution_count": 11,
   "metadata": {
    "collapsed": false
   },
   "outputs": [
    {
     "name": "stdout",
     "output_type": "stream",
     "text": [
      "Alternative hypothsis: distribution has similar expected value as distribution2\n",
      "Null hypothsis: distribution has different expected value as distribution2\n",
      "Confidence level: 0.05\n"
     ]
    }
   ],
   "source": [
    "print(\"Alternative hypothsis: distribution has similar expected value as distribution2\")\n",
    "print(\"Null hypothsis: distribution has different expected value as distribution2\")\n",
    "print('Confidence level: 0.05')"
   ]
  },
  {
   "cell_type": "code",
   "execution_count": 12,
   "metadata": {
    "collapsed": false
   },
   "outputs": [
    {
     "data": {
      "text/plain": [
       "Ttest_indResult(statistic=-0.72467273054923931, pvalue=0.46950830167945401)"
      ]
     },
     "execution_count": 12,
     "metadata": {},
     "output_type": "execute_result"
    }
   ],
   "source": [
    "from scipy import stats\n",
    "\n",
    "stats.ttest_ind(distribution,distribution2)"
   ]
  },
  {
   "cell_type": "code",
   "execution_count": 13,
   "metadata": {
    "collapsed": false
   },
   "outputs": [
    {
     "name": "stdout",
     "output_type": "stream",
     "text": [
      "P-value is large than 0.05, can't reject null hypothesis\n",
      "Conclusion:distribution has a different mean as distribution 2\n"
     ]
    }
   ],
   "source": [
    "print(\"P-value is large than 0.05, can't reject null hypothesis\")\n",
    "print(\"Conclusion:distribution has a different mean as distribution 2\")"
   ]
  },
  {
   "cell_type": "code",
   "execution_count": null,
   "metadata": {
    "collapsed": true
   },
   "outputs": [],
   "source": []
  }
 ],
 "metadata": {
  "anaconda-cloud": {},
  "kernelspec": {
   "display_name": "Python [default]",
   "language": "python",
   "name": "python3"
  },
  "language_info": {
   "codemirror_mode": {
    "name": "ipython",
    "version": 3
   },
   "file_extension": ".py",
   "mimetype": "text/x-python",
   "name": "python",
   "nbconvert_exporter": "python",
   "pygments_lexer": "ipython3",
   "version": "3.5.2"
  }
 },
 "nbformat": 4,
 "nbformat_minor": 1
}
