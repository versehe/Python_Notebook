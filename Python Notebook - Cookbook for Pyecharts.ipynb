{
 "cells": [
  {
   "cell_type": "code",
   "execution_count": 1,
   "metadata": {
    "collapsed": true
   },
   "outputs": [
    {
     "ename": "SyntaxError",
     "evalue": "invalid syntax (<ipython-input-1-6acf39315bf9>, line 5)",
     "output_type": "error",
     "traceback": [
      "\u001b[0;36m  File \u001b[0;32m\"<ipython-input-1-6acf39315bf9>\"\u001b[0;36m, line \u001b[0;32m5\u001b[0m\n\u001b[0;31m    pip install pyecharts\u001b[0m\n\u001b[0m              ^\u001b[0m\n\u001b[0;31mSyntaxError\u001b[0m\u001b[0;31m:\u001b[0m invalid syntax\n"
     ]
    }
   ],
   "source": [
    "# Echarts is an open source interactive data visualization library in javascript, presented by Baidu.\n",
    "# This package allows us to access 28+ kinds of Echarts using Python.\n",
    "\n",
    "# To install package\n",
    "pip install pyecharts\n",
    "\n",
    "# To export your chart as image or pdf\n",
    "# https://github.com/pyecharts/pyecharts-snapshot\n",
    "\n",
    "# Highly Recommended Reference\n",
    "# Github: https://github.com/pyecharts/pyecharts    \n",
    "# Document: http://pyecharts.org/#/en-us/"
   ]
  },
  {
   "cell_type": "code",
   "execution_count": null,
   "metadata": {
    "collapsed": true
   },
   "outputs": [],
   "source": [
    "# The basic idea of this package:\n",
    "\n",
    "# 1. declare chart type\n",
    "mychart = Bar(\"School\")\n",
    "\n",
    "# 2. add class, attribute, value\n",
    "mychart.add(\"Class 1\",Name,Grade)\n",
    "\n",
    "# 3. render E-chart from javascript library\n",
    "mychart.render()"
   ]
  },
  {
   "cell_type": "markdown",
   "metadata": {},
   "source": [
    "# Bar Chart"
   ]
  },
  {
   "cell_type": "code",
   "execution_count": 1,
   "metadata": {
    "collapsed": false
   },
   "outputs": [],
   "source": [
    "from pyecharts import Bar\n",
    "\n",
    "mychart = Bar(\"Final Exam Grade\",\"Grade 1,Class 1\")    #Chart_Tpye(\"Main Title\",\"Subtitle\")\n",
    "mychart.add(\"English\", [\"Bob\",\"May\",\"Lee\"],[67,77,92])\n",
    "mychart.add(\"Math\", [\"Bob\",\"May\",\"Lee\"],[92,85,88])\n",
    "#mychart.show_config()  # optional, show chart configuration\n",
    "mychart.render()\n",
    "\n",
    "# It will create a file called \"render.html\" at root folder, open it"
   ]
  },
  {
   "cell_type": "markdown",
   "metadata": {},
   "source": [
    "![alt text](screenshots/pyechart/BarChart1.PNG )\n",
    "\n",
    "## You can mask one subject:\n",
    "\n",
    "![alt text](screenshots/pyechart/BarChart2.PNG )"
   ]
  },
  {
   "cell_type": "code",
   "execution_count": 6,
   "metadata": {
    "collapsed": true
   },
   "outputs": [],
   "source": [
    "## add Mark\n",
    "from pyecharts import Bar\n",
    "\n",
    "mychart = Bar(\"Final Exam Grade\",\"Grade 1,Class 1\")    \n",
    "mychart.add(\"English\", [\"Bob\",\"May\",\"Lee\"],[67,77,92], mark_line =[\"min\",\"max\"])\n",
    "mychart.add(\"Math\", [\"Bob\",\"May\",\"Lee\"],[92,85,88],mark_point = [\"average\"] )\n",
    "\n",
    "mychart.render()\n"
   ]
  },
  {
   "cell_type": "markdown",
   "metadata": {},
   "source": [
    "![alt text](screenshots/pyechart/BarChart3.PNG )"
   ]
  },
  {
   "cell_type": "code",
   "execution_count": 8,
   "metadata": {
    "collapsed": true
   },
   "outputs": [],
   "source": [
    "## Switch to horizonal\n",
    "from pyecharts import Bar\n",
    "\n",
    "mychart = Bar(\"Final Exam Grade\",\"Grade 1,Class 1\")    \n",
    "mychart.add(\"English\", [\"Bob\",\"May\",\"Lee\"],[67,77,92], mark_line =[\"min\",\"max\"])\n",
    "mychart.add(\"Math\", [\"Bob\",\"May\",\"Lee\"],[92,85,88],mark_point = [\"average\"], is_convert = True )  # it has to be at last class\n",
    "\n",
    "mychart.render()"
   ]
  },
  {
   "cell_type": "markdown",
   "metadata": {},
   "source": [
    "![alt text](screenshots/pyechart/BarChart4.PNG )"
   ]
  },
  {
   "cell_type": "code",
   "execution_count": 48,
   "metadata": {
    "collapsed": true
   },
   "outputs": [],
   "source": [
    "# stack\n",
    "from pyecharts import Bar\n",
    "\n",
    "mychart = Bar(\"Final Exam Grade\",\"Grade 1,Class 1\")    #Chart_Tpye(\"Main Title\",\"Subtitle\")\n",
    "mychart.add(\"English\", [\"Bob\",\"May\",\"Lee\"],[67,77,92],is_stack = True,is_label_show=True)\n",
    "mychart.add(\"Math\", [\"Bob\",\"May\",\"Lee\"],[92,85,88],is_stack = True,is_label_show=True)\n",
    "mychart.render()"
   ]
  },
  {
   "cell_type": "markdown",
   "metadata": {},
   "source": [
    "![alt text](screenshots/pyechart/BarChart5.PNG )"
   ]
  },
  {
   "cell_type": "markdown",
   "metadata": {},
   "source": [
    "# Scatter"
   ]
  },
  {
   "cell_type": "code",
   "execution_count": 2,
   "metadata": {
    "collapsed": false
   },
   "outputs": [],
   "source": [
    "# create by array\n",
    "from pyecharts import EffectScatter\n",
    "\n",
    "mychart = EffectScatter(\"X-Y co-ordinator\")\n",
    "X = [5,10,22,18]\n",
    "Y = [16,10,2,6]\n",
    "mychart.add(\"X-Y co-ordinator\",X,Y)\n",
    "\n",
    "mychart.render()"
   ]
  },
  {
   "cell_type": "markdown",
   "metadata": {},
   "source": [
    "![alt text](screenshots/pyechart/Scatter1.PNG )"
   ]
  },
  {
   "cell_type": "code",
   "execution_count": 5,
   "metadata": {
    "collapsed": true
   },
   "outputs": [],
   "source": [
    "# create by dot\n",
    "from pyecharts import EffectScatter\n",
    "\n",
    "mychart = EffectScatter(\"Show Symbol Example\")\n",
    "mychart.add(\"A\",[1],[1],symbol_size= 20,effect_scale = 3.5,effect_period = 5,symbol = \"pin\")\n",
    "mychart.add(\"B\",[3],[3],symbol_size= 50,effect_scale = 1.5,effect_period = 3,symbol = \"rect\")\n",
    "mychart.add(\"C\",[5],[5],symbol = \"roundRect\")\n",
    "mychart.add(\"\",[10],[10],symbol = \"diamond\")\n",
    "mychart.add(\"\",[15],[15],symbol = \"triangle\")\n",
    "mychart.add(\"\",[18],[18],symbol = \"arrow\")\n",
    "\n",
    "mychart.render()"
   ]
  },
  {
   "cell_type": "markdown",
   "metadata": {},
   "source": [
    "![alt text](screenshots/pyechart/Scatter2.PNG )"
   ]
  },
  {
   "cell_type": "markdown",
   "metadata": {},
   "source": [
    "# Funnel"
   ]
  },
  {
   "cell_type": "code",
   "execution_count": 8,
   "metadata": {
    "collapsed": false
   },
   "outputs": [],
   "source": [
    "from pyecharts import Funnel\n",
    "Name =[\"Bob\",\"May\",\"Lee\",\"Rose\",\"Lisa\"]\n",
    "Grade = [67,77,92,85,96]\n",
    "mychart = Funnel(\"School\")\n",
    "mychart.add(\"Class/Level\",Name,Grade,is_label_show = True, label_pos =\"inside\")\n",
    "mychart.render()"
   ]
  },
  {
   "cell_type": "markdown",
   "metadata": {},
   "source": [
    "Pros: It natural ranked   \n",
    "Cons: You can't see exactly the difference\n",
    "    \n",
    "![alt text](screenshots/pyechart/Funnel1.PNG )\n",
    "\n",
    "You can hide some attributes if you want\n",
    "![alt text](screenshots/pyechart/Funnel2.PNG )"
   ]
  },
  {
   "cell_type": "markdown",
   "metadata": {},
   "source": [
    "# Network/Diagram"
   ]
  },
  {
   "cell_type": "code",
   "execution_count": 19,
   "metadata": {
    "collapsed": false
   },
   "outputs": [],
   "source": [
    "from pyecharts import Graph\n",
    "\n",
    "\n",
    "\n",
    "mynodes = [{\"name\":\"Bob\",\"symbolSize\":50},\n",
    "           {\"name\":\"Lisa\",\"symbolSize\":20},\n",
    "           {\"name\":\"Mary\",\"symbolSize\":20},\n",
    "           {\"name\":\"Sam\",\"symbolSize\":20},\n",
    "           {\"name\":\"Bean\",\"symbolSize\":10}]\n",
    "\n",
    "myink = [{\"source\": \"Bob\", \"target\": \"Lisa\"},\n",
    "        {\"source\": \"Lisa\", \"target\": \"Bob\"},\n",
    "        {\"source\": \"Lisa\", \"target\": \"Mary\"},\n",
    "        {\"source\": \"Mary\", \"target\": \"Bob\"},\n",
    "        {\"source\": \"Bob\", \"target\": \"Sam\"},\n",
    "        {\"source\": \"Sam\", \"target\": \"Bean\"}]\n",
    "    \n",
    "\n",
    "graph = Graph(\"Friendship\")\n",
    "graph.add(\"xx\", mynodes, myink,is_label_show=True,graph_layout='force', repulsion=8000)\n",
    "graph.render()\n",
    "\n",
    "# Add option:\n",
    "# add(name, nodes(dict), links(dict),categories=None(list),is_focusnode=True,is_roam=True,is_rotatelabel=False, \n",
    "#    layout=\"force\"/\"circular\"/\"None\",graph_edge_length=50,graph_gravity=0.2,graph_repulsion=50)\n",
    "\n",
    "# Node option\n",
    "# must have: name\n",
    "# optional:  x,y,value,category,symbol,symbolSize\n",
    "\n"
   ]
  },
  {
   "cell_type": "markdown",
   "metadata": {},
   "source": [
    "![alt text](screenshots/pyechart/network1.PNG )"
   ]
  },
  {
   "cell_type": "markdown",
   "metadata": {},
   "source": [
    "# K-line"
   ]
  },
  {
   "cell_type": "code",
   "execution_count": 22,
   "metadata": {
    "collapsed": false
   },
   "outputs": [],
   "source": [
    "from pyecharts import Kline\n",
    "\n",
    "price = [[120,110,100,120],\n",
    "         [110,130,110,135],\n",
    "         [130,130,120,140],\n",
    "         [130,130,130,130],\n",
    "         [130,135,120,140]]\n",
    "#  [open, close, lowest, highest] \n",
    "kline = Kline(\"Stock A\")\n",
    "kline.add(\"Daily Price\", x_axis= [\"2018/2/{}\".format(i + 1) for i in range(5)], y_axis = price)\n",
    "kline.render()"
   ]
  },
  {
   "cell_type": "markdown",
   "metadata": {},
   "source": [
    "![alt text](screenshots/pyechart/kline.PNG )"
   ]
  },
  {
   "cell_type": "markdown",
   "metadata": {},
   "source": [
    "# Radar"
   ]
  },
  {
   "cell_type": "code",
   "execution_count": 29,
   "metadata": {
    "collapsed": true
   },
   "outputs": [],
   "source": [
    "from pyecharts import Radar\n",
    "\n",
    "schema = [(\"Product A\", 6500), (\"Product B\", 16000), (\"Product C\", 30000),(\"Product D\", 38000), (\"Product E\", 52000)]  \n",
    "# system will process this list into a dict {'name':\"A\",\"value\": 6500} \n",
    "\n",
    "radar = Radar(\"Monthly Sale\")\n",
    "radar.config(schema)\n",
    "radar.add(\"Store Old\", [[4300, 10000, 28000, 35000, 50000]])\n",
    "radar.add(\"Store New\", [[5000, 14000, 28000, 31000, 42000]], label_color=[\"#4e79a7\"])\n",
    "radar.render()\n",
    "\n",
    "\n",
    "# config option:\n",
    "# schema(list) ,c_schema(dict:name,min,max), shape='polygon'/'circle', rader_text_color=\"#000\",radar_text_size =12)\n",
    "\n",
    "# add(name, value,item_color=None)"
   ]
  },
  {
   "cell_type": "markdown",
   "metadata": {},
   "source": [
    "## Be aware:\n",
    "### Although it's a great chart to make multi-dimensional comparation, each dimension has totally different measures.\n",
    "\n",
    "![alt text](screenshots/pyechart/radar.PNG )"
   ]
  },
  {
   "cell_type": "markdown",
   "metadata": {},
   "source": [
    "# Word Cloud"
   ]
  },
  {
   "cell_type": "code",
   "execution_count": 31,
   "metadata": {
    "collapsed": true
   },
   "outputs": [],
   "source": [
    "from pyecharts import WordCloud\n",
    "\n",
    "wordcloud = WordCloud(width=1300, height=800)\n",
    "wordcloud.add(\"Class A\", [\"Bob\",\"Lisa\",\"May\",\"Roma\",\"Macy\",\"Sam\"], [10,20,50,150,20,20], word_size_range=[20, 100])\n",
    "wordcloud.render()\n",
    "\n",
    "\n",
    "# add option:\n",
    "# add(name(list), attr(list), value(list),\n",
    "#     shape='circle', 'cardioid', 'diamond', 'triangle-forward', 'triangle', 'pentagon', 'star',\n",
    "#     word_gap=20,word_size_range=None,rotate_step=45)"
   ]
  },
  {
   "cell_type": "markdown",
   "metadata": {},
   "source": [
    "![alt text](screenshots/pyechart/wordcloud.PNG )"
   ]
  },
  {
   "cell_type": "markdown",
   "metadata": {},
   "source": [
    "# GeoLines: departure and destination"
   ]
  },
  {
   "cell_type": "code",
   "execution_count": 46,
   "metadata": {
    "collapsed": false
   },
   "outputs": [],
   "source": [
    "from pyecharts import GeoLines, Style\n",
    "\n",
    "style = Style( title_top=\"#fff\", title_pos = \"center\", width=1200, height=600,background_color=\"#4e79a7\")\n",
    "\n",
    "# I only got Chinese city work, need to download map extension to work with world map\n",
    "departureA = [ [\"广州\", \"上海\"],\n",
    "               [\"广州\", \"北京\"],\n",
    "               [\"广州\", \"兰州\"]]\n",
    "\n",
    "departureB = [ [\"北京\", \"上海\"],\n",
    "               [\"北京\", \"广州\"],\n",
    "               [\"北京\", \"重庆\"]]\n",
    "\n",
    "\n",
    "style_geo = style.add(is_label_show=True, line_curve=0.2, line_opacity=0.6,legend_text_color=\"#eee\", legend_pos=\"right\",\n",
    "                      geo_effect_symbol=\"plane\",geo_effect_symbolsize=30,label_color=['#a6c84c', '#ffa022', '#46bee9'],\n",
    "                      label_pos=\"right\",label_formatter=\"{b}\", label_text_color=\"#eee\")\n",
    "#  if only want to show one lengend each time, add below \n",
    "#  legend_selectedmode='single'\n",
    "\n",
    "\n",
    "geolines = GeoLines(\"Flight\", **style.init_style)\n",
    "geolines.add(\"Depart from Canton\",departureA,maptype=\"china\", **style_geo)\n",
    "geolines.add(\"Depart from Beijing\",departureB, **style_geo)\n",
    "\n",
    "geolines.render()"
   ]
  },
  {
   "cell_type": "markdown",
   "metadata": {},
   "source": [
    "![alt text](screenshots/pyechart/geo1.PNG )"
   ]
  },
  {
   "cell_type": "markdown",
   "metadata": {},
   "source": [
    "## All Charts available\n",
    "\n",
    "    Bar\n",
    "    Pie\n",
    "    Line\n",
    "    Scatter                    \n",
    "    WordCloud \n",
    "    Graph  （network/diagram）\n",
    "    \n",
    "    EffectScatter\n",
    "    Boxplot\n",
    "    Funnel\n",
    "    Gauge\n",
    "        \n",
    "    Geo\n",
    "    GeoLines\n",
    "    HeatMap\n",
    "    Map\n",
    "    //need to download maps separately\n",
    "            Country:           https://github.com/pyecharts/echarts-countries-pypkg\n",
    "            Chinese Province:  https://github.com/pyecharts/echarts-china-provinces-pypkg\n",
    "            Chinese City:      https://github.com/pyecharts/echarts-china-cities-pypkg\n",
    "    \n",
    "    Kline/Candlestick\n",
    "    Liquid\n",
    "    Parallel\n",
    "    Polar\n",
    "    Radar\n",
    "    Sankey\n",
    "    ThemeRiver\n",
    "    TreeMap  \n",
    "    \n",
    "    Bar3D\n",
    "    Line3D\n",
    "    Scatter3D"
   ]
  },
  {
   "cell_type": "markdown",
   "metadata": {},
   "source": [
    "# Special Layout: Grid"
   ]
  },
  {
   "cell_type": "code",
   "execution_count": 40,
   "metadata": {
    "collapsed": false
   },
   "outputs": [],
   "source": [
    "# top: boxplot\n",
    "# bottom: scatter \n",
    "from pyecharts import Boxplot, Scatter, Grid    \n",
    "\n",
    "#generate a list of random numbers\n",
    "import random\n",
    "x= [\"A\",\"B\",\"C\",\"D\"]\n",
    "y=[[],[],[],[]]\n",
    "for a in range(len(y)):\n",
    "    for b in range(10):\n",
    "        y[a].append(random.randrange(1,15))  \n",
    "        \n",
    "y1= boxplot.prepare_data(y)   # calculate  [min, Q1, median (or Q2), Q3, max]\n",
    "\n",
    "#create boxplot\n",
    "boxplot = Boxplot(\"Top\")\n",
    "boxplot.add(\"\", x, y1)\n",
    "boxplot.render()\n",
    "\n",
    "\n",
    "#create scatter\n",
    "scatter = Scatter(\"Bottom\", title_top=\"50%\")\n",
    "scatter.add(\"\", [\"A\"] * 10+[\"B\"] * 10+[\"C\"] * 10+[\"D\"] * 10, y[0]+y[1]+y[2]+y[3],xaxis_type=\"category\")\n",
    "scatter.render()\n",
    "\n",
    "# put two charts together\n",
    "grid = Grid()\n",
    "grid.add(boxplot, grid_bottom=\"60%\")\n",
    "grid.add(scatter, grid_top=\"60%\")\n",
    "grid.render()"
   ]
  },
  {
   "cell_type": "markdown",
   "metadata": {},
   "source": [
    "![alt text](screenshots/pyechart/grid1.PNG )"
   ]
  },
  {
   "cell_type": "code",
   "execution_count": 60,
   "metadata": {
    "collapsed": false,
    "scrolled": true
   },
   "outputs": [],
   "source": [
    "# left: bar\n",
    "# right: pie\n",
    "# Pie chart can't be first graph in grid layout\n",
    "\n",
    "from pyecharts import Bar, Pie, Grid   \n",
    "\n",
    "x=[\"Store_A\",\"Store_B\",\"Store_C\"]\n",
    "y= [\"2344542\",\"4534536\",\"5635423\"]\n",
    "\n",
    "bar = Bar()\n",
    "bar.add(\"\",x,y,is_label_show=True)\n",
    "bar.render()\n",
    "\n",
    "pie = Pie(\"Store Revenue\", title_pos=\"40%\")\n",
    "pie.add(\"\",x,y,is_label_show=True,radius=[0, 65], center=[65, 50],legend_orient='vertical',legend_pos=\"80%\" )\n",
    "pie.render()\n",
    "\n",
    "grid = Grid()\n",
    "grid.add(bar, grid_right=\"55%\")\n",
    "grid.add(pie, grid_left=\"60%\")\n",
    "grid.render()"
   ]
  },
  {
   "cell_type": "markdown",
   "metadata": {},
   "source": [
    "![alt text](screenshots/pyechart/grid2.PNG )"
   ]
  },
  {
   "cell_type": "markdown",
   "metadata": {},
   "source": [
    "### you can also divide into 4 panels\n",
    "### grid.add(bar, grid_bottom=\"60%\", grid_left=\"60%\")"
   ]
  },
  {
   "cell_type": "markdown",
   "metadata": {},
   "source": [
    "# Special Layout: Overlap"
   ]
  },
  {
   "cell_type": "code",
   "execution_count": 79,
   "metadata": {
    "collapsed": false
   },
   "outputs": [],
   "source": [
    "from pyecharts import Bar, Line, Overlap\n",
    "\n",
    "\n",
    "Store=[\"Store_A\",\"Store_B\",\"Store_C\"]\n",
    "Revenue= [2344542,4534536,5635423]\n",
    "Profit = [round(Revenue[i]*0.4,2) for i in range(len(Revenue))] \n",
    "\n",
    "bar = Bar()\n",
    "bar.add(\"Revenue\",Store,Revenue,is_label_show=True)\n",
    "bar.render()\n",
    "\n",
    "line = Line()\n",
    "line.add(\"Profit\",Store,Profit,is_label_show=True)\n",
    "line.render()\n",
    "\n",
    "overlap = Overlap()\n",
    "overlap.add(bar)\n",
    "overlap.add(line)\n",
    "overlap.render()"
   ]
  },
  {
   "cell_type": "markdown",
   "metadata": {},
   "source": [
    "![alt text](screenshots/pyechart/overlap.PNG )"
   ]
  },
  {
   "cell_type": "code",
   "execution_count": 85,
   "metadata": {
    "collapsed": true
   },
   "outputs": [],
   "source": [
    "from pyecharts import EffectScatter, Line, Overlap\n",
    "\n",
    "Store=[\"Store_A\",\"Store_B\",\"Store_C\"]\n",
    "Revenue= [2344542,4534536,5635423]\n",
    "Profit = [round(Revenue[i]*0.4,2) for i in range(len(Revenue))] \n",
    "\n",
    "point = EffectScatter()\n",
    "point.add(\"Point\",Store,Profit)\n",
    "point.render()\n",
    "\n",
    "line = Line()\n",
    "line.add(\"Profit\",Store,Profit,is_label_show=True)\n",
    "line.render()\n",
    "\n",
    "overlap = Overlap()\n",
    "overlap.add(line)\n",
    "overlap.add(point)\n",
    "\n",
    "overlap.render()"
   ]
  },
  {
   "cell_type": "markdown",
   "metadata": {},
   "source": [
    "![alt text](screenshots/pyechart/overlap2.PNG )"
   ]
  },
  {
   "cell_type": "markdown",
   "metadata": {},
   "source": [
    "# Special Layout: Timeline"
   ]
  },
  {
   "cell_type": "code",
   "execution_count": 88,
   "metadata": {
    "collapsed": false
   },
   "outputs": [],
   "source": [
    "from pyecharts import Bar,Timeline\n",
    "import random\n",
    "\n",
    "bar1 = Bar(\"Revenue\")\n",
    "bar1.add(\"\",[\"A\",\"B\",\"C\",\"D\",\"E\"],[random.randint(10000, 100000) for i in range(5)],is_label_show=True)\n",
    "bar1.render()\n",
    "\n",
    "bar2 = Bar(\"Revenue\")\n",
    "bar2.add(\"\",[\"A\",\"B\",\"C\",\"D\",\"E\"],[random.randint(10000, 100000) for i in range(5)],is_label_show=True)\n",
    "bar2.render()\n",
    "\n",
    "bar3 = Bar(\"Revenue\")\n",
    "bar3.add(\"\",[\"A\",\"B\",\"C\",\"D\",\"E\"],[random.randint(10000, 100000) for i in range(5)],is_label_show=True)\n",
    "bar3.render()\n",
    "\n",
    "bar4 = Bar(\"Revenue\")\n",
    "bar4.add(\"\",[\"A\",\"B\",\"C\",\"D\",\"E\"],[random.randint(10000, 100000) for i in range(5)],is_label_show=True)\n",
    "bar4.render()\n",
    "\n",
    "timeline = Timeline(is_auto_play=False, timeline_bottom=0)\n",
    "timeline.add(bar1, '2014')\n",
    "timeline.add(bar2, '2015')\n",
    "timeline.add(bar3, '2016')\n",
    "timeline.add(bar4, '2017')\n",
    "timeline.render()\n"
   ]
  },
  {
   "cell_type": "markdown",
   "metadata": {},
   "source": [
    "![alt text](screenshots/pyechart/timeline1.PNG )\n",
    "![alt text](screenshots/pyechart/timeline2.PNG )"
   ]
  },
  {
   "cell_type": "markdown",
   "metadata": {},
   "source": [
    "# Special Layout: Page\n"
   ]
  },
  {
   "cell_type": "markdown",
   "metadata": {
    "collapsed": true
   },
   "source": [
    "#### It just simply adds multiple charts into one web page   \n",
    "#### Grid/Timeline/Overlap could all be added into page"
   ]
  }
 ],
 "metadata": {
  "anaconda-cloud": {},
  "kernelspec": {
   "display_name": "Python [default]",
   "language": "python",
   "name": "python3"
  },
  "language_info": {
   "codemirror_mode": {
    "name": "ipython",
    "version": 3
   },
   "file_extension": ".py",
   "mimetype": "text/x-python",
   "name": "python",
   "nbconvert_exporter": "python",
   "pygments_lexer": "ipython3",
   "version": "3.5.2"
  }
 },
 "nbformat": 4,
 "nbformat_minor": 1
}
