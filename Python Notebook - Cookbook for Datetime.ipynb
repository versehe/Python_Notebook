{
 "cells": [
  {
   "cell_type": "code",
   "execution_count": 28,
   "metadata": {
    "collapsed": true
   },
   "outputs": [],
   "source": [
    "import datetime"
   ]
  },
  {
   "cell_type": "markdown",
   "metadata": {},
   "source": [
    "## Datetime"
   ]
  },
  {
   "cell_type": "code",
   "execution_count": 30,
   "metadata": {
    "collapsed": false
   },
   "outputs": [
    {
     "data": {
      "text/plain": [
       "datetime.datetime(2019, 12, 22, 16, 47, 3, 229581)"
      ]
     },
     "execution_count": 30,
     "metadata": {},
     "output_type": "execute_result"
    }
   ],
   "source": [
    "now = datetime.datetime.now()\n",
    "now"
   ]
  },
  {
   "cell_type": "code",
   "execution_count": 7,
   "metadata": {
    "collapsed": false
   },
   "outputs": [
    {
     "data": {
      "text/plain": [
       "'2019-12-22 16:27:48.241566'"
      ]
     },
     "execution_count": 7,
     "metadata": {},
     "output_type": "execute_result"
    }
   ],
   "source": [
    "str(now)"
   ]
  },
  {
   "cell_type": "code",
   "execution_count": 8,
   "metadata": {
    "collapsed": false
   },
   "outputs": [
    {
     "data": {
      "text/plain": [
       "(2019, 12, 22)"
      ]
     },
     "execution_count": 8,
     "metadata": {},
     "output_type": "execute_result"
    }
   ],
   "source": [
    "now.year, now.month, now.day"
   ]
  },
  {
   "cell_type": "code",
   "execution_count": 32,
   "metadata": {
    "collapsed": false
   },
   "outputs": [
    {
     "data": {
      "text/plain": [
       "datetime.timedelta(8)"
      ]
     },
     "execution_count": 32,
     "metadata": {},
     "output_type": "execute_result"
    }
   ],
   "source": [
    "# delta is the time difference\n",
    "delta = datetime.datetime(2019,1,15) - datetime.datetime(2019,1,7)\n",
    "delta "
   ]
  },
  {
   "cell_type": "code",
   "execution_count": 33,
   "metadata": {
    "collapsed": false
   },
   "outputs": [
    {
     "data": {
      "text/plain": [
       "datetime.timedelta(7, 21600)"
      ]
     },
     "execution_count": 33,
     "metadata": {},
     "output_type": "execute_result"
    }
   ],
   "source": [
    "delta = datetime.datetime(2019,1,15) - datetime.datetime(2019,1,7,18)\n",
    "delta "
   ]
  },
  {
   "cell_type": "code",
   "execution_count": 34,
   "metadata": {
    "collapsed": false
   },
   "outputs": [
    {
     "data": {
      "text/plain": [
       "(7, 21600)"
      ]
     },
     "execution_count": 34,
     "metadata": {},
     "output_type": "execute_result"
    }
   ],
   "source": [
    "delta.days , delta.seconds"
   ]
  },
  {
   "cell_type": "code",
   "execution_count": 39,
   "metadata": {
    "collapsed": false
   },
   "outputs": [
    {
     "data": {
      "text/plain": [
       "datetime.datetime(2019, 1, 20, 0, 0)"
      ]
     },
     "execution_count": 39,
     "metadata": {},
     "output_type": "execute_result"
    }
   ],
   "source": [
    "start =  datetime.datetime(2019,1,15) \n",
    "start = start + datetime.timedelta(5)\n",
    "start"
   ]
  },
  {
   "cell_type": "code",
   "execution_count": 40,
   "metadata": {
    "collapsed": false
   },
   "outputs": [
    {
     "data": {
      "text/plain": [
       "datetime.datetime(2019, 1, 19, 23, 50)"
      ]
     },
     "execution_count": 40,
     "metadata": {},
     "output_type": "execute_result"
    }
   ],
   "source": [
    "start = start - 2* datetime.timedelta(minutes = 5)\n",
    "start"
   ]
  },
  {
   "cell_type": "markdown",
   "metadata": {},
   "source": [
    "## Format Datetime"
   ]
  },
  {
   "cell_type": "code",
   "execution_count": 45,
   "metadata": {
    "collapsed": false
   },
   "outputs": [
    {
     "data": {
      "text/plain": [
       "datetime.date(2019, 12, 22)"
      ]
     },
     "execution_count": 45,
     "metadata": {},
     "output_type": "execute_result"
    }
   ],
   "source": [
    "today = datetime.date.today()\n",
    "today"
   ]
  },
  {
   "cell_type": "code",
   "execution_count": 46,
   "metadata": {
    "collapsed": false
   },
   "outputs": [
    {
     "data": {
      "text/plain": [
       "'Sun Dec 22 00:00:00 2019'"
      ]
     },
     "execution_count": 46,
     "metadata": {},
     "output_type": "execute_result"
    }
   ],
   "source": [
    "# covert date to datetime\n",
    "today.ctime()"
   ]
  },
  {
   "cell_type": "code",
   "execution_count": 26,
   "metadata": {
    "collapsed": false
   },
   "outputs": [
    {
     "data": {
      "text/plain": [
       "'2019-01-19 23:50:00'"
      ]
     },
     "execution_count": 26,
     "metadata": {},
     "output_type": "execute_result"
    }
   ],
   "source": [
    "str(start)"
   ]
  },
  {
   "cell_type": "code",
   "execution_count": 24,
   "metadata": {
    "collapsed": false
   },
   "outputs": [
    {
     "data": {
      "text/plain": [
       "'2019-01-19'"
      ]
     },
     "execution_count": 24,
     "metadata": {},
     "output_type": "execute_result"
    }
   ],
   "source": [
    "start.strftime('%Y-%m-%d')"
   ]
  },
  {
   "cell_type": "markdown",
   "metadata": {},
   "source": [
    "### Time    \n",
    "    %H: Returns the hour. In our example, it returned \"00\".\n",
    "\t%M: Returns the minute, from 00 to 59. In our example, it returned \"00\".\n",
    "\t%S: Returns the second, from 00 to 59. In our example, it returned \"00\".\n",
    "\t%f: Returns microsecond from 000000 to 999999.\n",
    "\t%p: Returns AM/PM for time.\n",
    "    %Z: Returns the timezone.\n",
    "    %z: Returns UTC offset.\n",
    "### Date\t\n",
    "\t%y: Returns the year in two-digit format, that is, without the century. For example, \"18\" instead of \"2018\".\n",
    "\t%Y: Returns the year in four-digit format. In our example, it returned \"2018\".\n",
    "    %b: Returns the first three characters of the month name. In our example, it returned \"Sep\"\n",
    "\t%B: Returns the full name of the month, e.g. September.\n",
    "\t%m: Returns the month as a number, from 01 to 12.\n",
    "    %d: Returns day of the month, from 1 to 31. In our example, it returned \"15\".\n",
    "    %j: Returns the number of the day in the year, from 001 to 366.\n",
    "### Weekday\t\n",
    "\t\n",
    "    %a: Returns the first three characters of the weekday, e.g. Wed.\n",
    "    %A: Returns the full name of the weekday, e.g. Wednesday.   \n",
    "    %w: Returns the weekday as a number, from 0 to 6, with Sunday being 0.\n",
    "    %W: Returns the week number of the year, from 00 to 53, with Monday being counted as the first day of the week.\n",
    "    %U: Returns the week number of the year, from 00 to 53, with Sunday counted as the first day of each week.\n",
    "### Local\n",
    "    %c: Returns the local date and time version.\n",
    "    %x: Returns the local version of date.\n",
    "    %X: Returns the local version of time."
   ]
  },
  {
   "cell_type": "code",
   "execution_count": 49,
   "metadata": {
    "collapsed": false
   },
   "outputs": [
    {
     "data": {
      "text/plain": [
       "datetime.datetime(2019, 11, 9, 0, 0)"
      ]
     },
     "execution_count": 49,
     "metadata": {},
     "output_type": "execute_result"
    }
   ],
   "source": [
    "# covert string to datetime\n",
    "string = '2019/11/9'\n",
    "nowdate = datetime.datetime.strptime(string, '%Y/%m/%d')\n",
    "nowdate"
   ]
  },
  {
   "cell_type": "markdown",
   "metadata": {},
   "source": [
    "## Time Series"
   ]
  },
  {
   "cell_type": "code",
   "execution_count": 50,
   "metadata": {
    "collapsed": true
   },
   "outputs": [],
   "source": [
    "dates = [datetime.datetime(2019,1,15) ,datetime.datetime(2019,1,8) ,datetime.datetime(2019,1,20) \n",
    "         ,datetime.datetime(2019,1,25) ,datetime.datetime(2019,3,15) ]"
   ]
  },
  {
   "cell_type": "code",
   "execution_count": 79,
   "metadata": {
    "collapsed": false
   },
   "outputs": [
    {
     "data": {
      "text/plain": [
       "2019-01-15    0.289923\n",
       "2019-01-08   -0.066815\n",
       "2019-01-20   -0.599132\n",
       "2019-01-25   -0.282833\n",
       "2019-03-15   -0.675058\n",
       "dtype: float64"
      ]
     },
     "execution_count": 79,
     "metadata": {},
     "output_type": "execute_result"
    }
   ],
   "source": [
    "import pandas as pd\n",
    "import numpy as np\n",
    "ts = pd.Series(np.random.randn(5), index = dates)\n",
    "ts"
   ]
  },
  {
   "cell_type": "code",
   "execution_count": 59,
   "metadata": {
    "collapsed": false
   },
   "outputs": [
    {
     "data": {
      "text/plain": [
       "DatetimeIndex(['2019-01-15', '2019-01-08', '2019-01-20', '2019-01-25',\n",
       "               '2019-03-15'],\n",
       "              dtype='datetime64[ns]', freq=None)"
      ]
     },
     "execution_count": 59,
     "metadata": {},
     "output_type": "execute_result"
    }
   ],
   "source": [
    "ts.index"
   ]
  },
  {
   "cell_type": "code",
   "execution_count": 61,
   "metadata": {
    "collapsed": false
   },
   "outputs": [
    {
     "data": {
      "text/plain": [
       "Timestamp('2019-01-15 00:00:00')"
      ]
     },
     "execution_count": 61,
     "metadata": {},
     "output_type": "execute_result"
    }
   ],
   "source": [
    "# the index saved as timestamp\n",
    "firsttime = ts.index[0]\n",
    "firsttime "
   ]
  },
  {
   "cell_type": "code",
   "execution_count": 62,
   "metadata": {
    "collapsed": false
   },
   "outputs": [
    {
     "data": {
      "text/plain": [
       "-0.10688615480175818"
      ]
     },
     "execution_count": 62,
     "metadata": {},
     "output_type": "execute_result"
    }
   ],
   "source": [
    "# get value by index\n",
    "ts[firsttime]"
   ]
  },
  {
   "cell_type": "code",
   "execution_count": 63,
   "metadata": {
    "collapsed": false
   },
   "outputs": [
    {
     "data": {
      "text/plain": [
       "2019-01-15   -0.106886\n",
       "dtype: float64"
      ]
     },
     "execution_count": 63,
     "metadata": {},
     "output_type": "execute_result"
    }
   ],
   "source": [
    "ts['2019-01-15']"
   ]
  },
  {
   "cell_type": "code",
   "execution_count": 65,
   "metadata": {
    "collapsed": false
   },
   "outputs": [
    {
     "name": "stdout",
     "output_type": "stream",
     "text": [
      "4\n"
     ]
    },
    {
     "data": {
      "text/plain": [
       "2019-01-15   -0.106886\n",
       "2019-01-08    0.522423\n",
       "2019-01-20   -2.025940\n",
       "2019-01-25   -0.104659\n",
       "dtype: float64"
      ]
     },
     "execution_count": 65,
     "metadata": {},
     "output_type": "execute_result"
    }
   ],
   "source": [
    "# filter time series\n",
    "print(ts['2019-01'].count())\n",
    "ts['2019-01']"
   ]
  },
  {
   "cell_type": "code",
   "execution_count": 66,
   "metadata": {
    "collapsed": false
   },
   "outputs": [
    {
     "data": {
      "text/plain": [
       "2019-01-15   -0.106886\n",
       "2019-01-20   -2.025940\n",
       "2019-01-25   -0.104659\n",
       "dtype: float64"
      ]
     },
     "execution_count": 66,
     "metadata": {},
     "output_type": "execute_result"
    }
   ],
   "source": [
    "ts['2019-01-15':'2019-01-25']"
   ]
  },
  {
   "cell_type": "code",
   "execution_count": 67,
   "metadata": {
    "collapsed": false
   },
   "outputs": [
    {
     "data": {
      "text/plain": [
       "2019-01-15   -0.106886\n",
       "2019-01-08    0.522423\n",
       "2019-01-20   -2.025940\n",
       "2019-01-25   -0.104659\n",
       "dtype: float64"
      ]
     },
     "execution_count": 67,
     "metadata": {},
     "output_type": "execute_result"
    }
   ],
   "source": [
    "# set right bound of time series by truncate\n",
    "ts.truncate(after = '2019-01-25')"
   ]
  },
  {
   "cell_type": "code",
   "execution_count": 80,
   "metadata": {
    "collapsed": false
   },
   "outputs": [
    {
     "data": {
      "text/plain": [
       "2019-01-15    0.289923\n",
       "2019-01-08   -0.066815\n",
       "2019-01-20   -0.599132\n",
       "2019-01-25   -0.282833\n",
       "2019-03-15   -0.675058\n",
       "2019-01-15    1.000000\n",
       "dtype: float64"
      ]
     },
     "execution_count": 80,
     "metadata": {},
     "output_type": "execute_result"
    }
   ],
   "source": [
    "# you can have duplicated index in time series\n",
    "ts=ts.append(pd.Series(1, index =[datetime.datetime(2019,1,15)] ))\n",
    "ts"
   ]
  },
  {
   "cell_type": "code",
   "execution_count": 81,
   "metadata": {
    "collapsed": false
   },
   "outputs": [
    {
     "data": {
      "text/plain": [
       "2019-01-15    0.289923\n",
       "2019-01-15    1.000000\n",
       "dtype: float64"
      ]
     },
     "execution_count": 81,
     "metadata": {},
     "output_type": "execute_result"
    }
   ],
   "source": [
    "ts['2019-01-15']"
   ]
  },
  {
   "cell_type": "code",
   "execution_count": 85,
   "metadata": {
    "collapsed": false
   },
   "outputs": [
    {
     "data": {
      "text/plain": [
       "2019-01-08    1\n",
       "2019-01-15    2\n",
       "2019-01-20    1\n",
       "2019-01-25    1\n",
       "2019-03-15    1\n",
       "dtype: int64"
      ]
     },
     "execution_count": 85,
     "metadata": {},
     "output_type": "execute_result"
    }
   ],
   "source": [
    "# group by index\n",
    "grouped = ts.groupby(level = 0).count()\n",
    "grouped"
   ]
  },
  {
   "cell_type": "code",
   "execution_count": 107,
   "metadata": {
    "collapsed": false
   },
   "outputs": [
    {
     "data": {
      "text/plain": [
       "2019-01-15         NaN\n",
       "2019-01-08    0.289923\n",
       "2019-01-20   -0.066815\n",
       "2019-01-25   -0.599132\n",
       "2019-03-15   -0.282833\n",
       "2019-01-15   -0.675058\n",
       "dtype: float64"
      ]
     },
     "execution_count": 107,
     "metadata": {},
     "output_type": "execute_result"
    }
   ],
   "source": [
    "# shift time series value by 1\n",
    "ts.shift(1)"
   ]
  },
  {
   "cell_type": "code",
   "execution_count": 109,
   "metadata": {
    "collapsed": false
   },
   "outputs": [
    {
     "data": {
      "text/plain": [
       "2019-01-16    0.289923\n",
       "2019-01-09   -0.066815\n",
       "2019-01-21   -0.599132\n",
       "2019-01-26   -0.282833\n",
       "2019-03-16   -0.675058\n",
       "2019-01-16    1.000000\n",
       "dtype: float64"
      ]
     },
     "execution_count": 109,
     "metadata": {},
     "output_type": "execute_result"
    }
   ],
   "source": [
    "# if you want to shift index instead, add freq as parameter\n",
    "ts.shift(1, freq ='D')"
   ]
  },
  {
   "cell_type": "markdown",
   "metadata": {},
   "source": [
    "## Generate date range"
   ]
  },
  {
   "cell_type": "code",
   "execution_count": 86,
   "metadata": {
    "collapsed": false
   },
   "outputs": [
    {
     "data": {
      "text/plain": [
       "DatetimeIndex(['2019-01-15', '2019-01-16', '2019-01-17', '2019-01-18',\n",
       "               '2019-01-19', '2019-01-20', '2019-01-21', '2019-01-22',\n",
       "               '2019-01-23', '2019-01-24', '2019-01-25'],\n",
       "              dtype='datetime64[ns]', freq='D')"
      ]
     },
     "execution_count": 86,
     "metadata": {},
     "output_type": "execute_result"
    }
   ],
   "source": [
    "pd.date_range('2019-01-15','2019-01-25')"
   ]
  },
  {
   "cell_type": "code",
   "execution_count": 88,
   "metadata": {
    "collapsed": false
   },
   "outputs": [
    {
     "data": {
      "text/plain": [
       "DatetimeIndex(['2019-01-15', '2019-01-16', '2019-01-17', '2019-01-18',\n",
       "               '2019-01-19', '2019-01-20', '2019-01-21', '2019-01-22',\n",
       "               '2019-01-23', '2019-01-24'],\n",
       "              dtype='datetime64[ns]', freq='D')"
      ]
     },
     "execution_count": 88,
     "metadata": {},
     "output_type": "execute_result"
    }
   ],
   "source": [
    "pd.date_range(start = '2019-01-15',periods = 10)"
   ]
  },
  {
   "cell_type": "code",
   "execution_count": 89,
   "metadata": {
    "collapsed": false
   },
   "outputs": [
    {
     "data": {
      "text/plain": [
       "DatetimeIndex(['2019-01-06', '2019-01-07', '2019-01-08', '2019-01-09',\n",
       "               '2019-01-10', '2019-01-11', '2019-01-12', '2019-01-13',\n",
       "               '2019-01-14', '2019-01-15'],\n",
       "              dtype='datetime64[ns]', freq='D')"
      ]
     },
     "execution_count": 89,
     "metadata": {},
     "output_type": "execute_result"
    }
   ],
   "source": [
    "pd.date_range(end = '2019-01-15',periods = 10)"
   ]
  },
  {
   "cell_type": "code",
   "execution_count": 92,
   "metadata": {
    "collapsed": false
   },
   "outputs": [
    {
     "data": {
      "text/plain": [
       "DatetimeIndex(['2019-01-20', '2019-01-27', '2019-02-03', '2019-02-10',\n",
       "               '2019-02-17', '2019-02-24', '2019-03-03', '2019-03-10',\n",
       "               '2019-03-17', '2019-03-24', '2019-03-31', '2019-04-07',\n",
       "               '2019-04-14', '2019-04-21', '2019-04-28', '2019-05-05',\n",
       "               '2019-05-12', '2019-05-19', '2019-05-26', '2019-06-02',\n",
       "               '2019-06-09', '2019-06-16', '2019-06-23', '2019-06-30',\n",
       "               '2019-07-07', '2019-07-14', '2019-07-21', '2019-07-28',\n",
       "               '2019-08-04', '2019-08-11', '2019-08-18', '2019-08-25',\n",
       "               '2019-09-01', '2019-09-08', '2019-09-15', '2019-09-22',\n",
       "               '2019-09-29', '2019-10-06', '2019-10-13', '2019-10-20',\n",
       "               '2019-10-27', '2019-11-03', '2019-11-10', '2019-11-17',\n",
       "               '2019-11-24', '2019-12-01', '2019-12-08', '2019-12-15',\n",
       "               '2019-12-22', '2019-12-29', '2020-01-05', '2020-01-12',\n",
       "               '2020-01-19'],\n",
       "              dtype='datetime64[ns]', freq='W-SUN')"
      ]
     },
     "execution_count": 92,
     "metadata": {},
     "output_type": "execute_result"
    }
   ],
   "source": [
    "# every weeks\n",
    "pd.date_range('2019-01-15','2020-01-25', freq ='W') # default to 'D', days"
   ]
  },
  {
   "cell_type": "code",
   "execution_count": 101,
   "metadata": {
    "collapsed": false
   },
   "outputs": [
    {
     "data": {
      "text/plain": [
       "DatetimeIndex(['2019-01-31', '2019-02-28', '2019-03-31', '2019-04-30',\n",
       "               '2019-05-31', '2019-06-30', '2019-07-31', '2019-08-31',\n",
       "               '2019-09-30', '2019-10-31', '2019-11-30', '2019-12-31'],\n",
       "              dtype='datetime64[ns]', freq='M')"
      ]
     },
     "execution_count": 101,
     "metadata": {},
     "output_type": "execute_result"
    }
   ],
   "source": [
    "# every months end\n",
    "pd.date_range('2019-01-15','2020-01-25', freq ='M')  "
   ]
  },
  {
   "cell_type": "code",
   "execution_count": 102,
   "metadata": {
    "collapsed": false
   },
   "outputs": [
    {
     "data": {
      "text/plain": [
       "DatetimeIndex(['2019-02-01', '2019-03-01', '2019-04-01', '2019-05-01',\n",
       "               '2019-06-01', '2019-07-01', '2019-08-01', '2019-09-01',\n",
       "               '2019-10-01', '2019-11-01', '2019-12-01', '2020-01-01'],\n",
       "              dtype='datetime64[ns]', freq='MS')"
      ]
     },
     "execution_count": 102,
     "metadata": {},
     "output_type": "execute_result"
    }
   ],
   "source": [
    "# every months start\n",
    "pd.date_range('2019-01-15','2020-01-25', freq ='MS')  "
   ]
  },
  {
   "cell_type": "code",
   "execution_count": 103,
   "metadata": {
    "collapsed": false
   },
   "outputs": [
    {
     "data": {
      "text/plain": [
       "DatetimeIndex(['2019-02-01', '2019-03-01', '2019-04-01', '2019-05-01',\n",
       "               '2019-06-03', '2019-07-01', '2019-08-01', '2019-09-02',\n",
       "               '2019-10-01', '2019-11-01', '2019-12-02', '2020-01-01'],\n",
       "              dtype='datetime64[ns]', freq='BMS')"
      ]
     },
     "execution_count": 103,
     "metadata": {},
     "output_type": "execute_result"
    }
   ],
   "source": [
    "# every business months start, the first business day of that month\n",
    "pd.date_range('2019-01-15','2020-01-25', freq ='BMS')  "
   ]
  },
  {
   "cell_type": "code",
   "execution_count": 95,
   "metadata": {
    "collapsed": false
   },
   "outputs": [
    {
     "data": {
      "text/plain": [
       "DatetimeIndex(['2019-01-31', '2019-06-30', '2019-11-30'], dtype='datetime64[ns]', freq='5M')"
      ]
     },
     "execution_count": 95,
     "metadata": {},
     "output_type": "execute_result"
    }
   ],
   "source": [
    "# every 5 months\n",
    "pd.date_range('2019-01-15','2020-01-25', freq ='5M')"
   ]
  },
  {
   "cell_type": "code",
   "execution_count": 100,
   "metadata": {
    "collapsed": false
   },
   "outputs": [
    {
     "data": {
      "text/plain": [
       "DatetimeIndex(['2019-01-15 00:00:00', '2019-01-15 05:30:00',\n",
       "               '2019-01-15 11:00:00', '2019-01-15 16:30:00',\n",
       "               '2019-01-15 22:00:00', '2019-01-16 03:30:00',\n",
       "               '2019-01-16 09:00:00', '2019-01-16 14:30:00',\n",
       "               '2019-01-16 20:00:00', '2019-01-17 01:30:00',\n",
       "               ...\n",
       "               '2020-01-13 22:00:00', '2020-01-14 03:30:00',\n",
       "               '2020-01-14 09:00:00', '2020-01-14 14:30:00',\n",
       "               '2020-01-14 20:00:00', '2020-01-15 01:30:00',\n",
       "               '2020-01-15 07:00:00', '2020-01-15 12:30:00',\n",
       "               '2020-01-15 18:00:00', '2020-01-15 23:30:00'],\n",
       "              dtype='datetime64[ns]', length=1598, freq='330T')"
      ]
     },
     "execution_count": 100,
     "metadata": {},
     "output_type": "execute_result"
    }
   ],
   "source": [
    "pd.date_range('2019-01-15','2020-01-16', freq ='5H30min')"
   ]
  },
  {
   "cell_type": "code",
   "execution_count": 105,
   "metadata": {
    "collapsed": false
   },
   "outputs": [
    {
     "data": {
      "text/plain": [
       "DatetimeIndex(['2019-01-18', '2019-02-15', '2019-03-15', '2019-04-19'], dtype='datetime64[ns]', freq='WOM-3FRI')"
      ]
     },
     "execution_count": 105,
     "metadata": {},
     "output_type": "execute_result"
    }
   ],
   "source": [
    "# every third week Friday of the month \n",
    "pd.date_range('2019-01-15','2019-05-16', freq ='WOM-3Fri')\n",
    "# OMG, Python is so powerful and flexible in terms of manipulating dates!"
   ]
  },
  {
   "cell_type": "code",
   "execution_count": 96,
   "metadata": {
    "collapsed": false
   },
   "outputs": [
    {
     "data": {
      "text/plain": [
       "DatetimeIndex(['2019-01-15 12:56:33', '2019-01-16 12:56:33',\n",
       "               '2019-01-17 12:56:33', '2019-01-18 12:56:33',\n",
       "               '2019-01-19 12:56:33', '2019-01-20 12:56:33',\n",
       "               '2019-01-21 12:56:33', '2019-01-22 12:56:33',\n",
       "               '2019-01-23 12:56:33', '2019-01-24 12:56:33'],\n",
       "              dtype='datetime64[ns]', freq='D')"
      ]
     },
     "execution_count": 96,
     "metadata": {},
     "output_type": "execute_result"
    }
   ],
   "source": [
    "pd.date_range(start = '2019-01-15 12:56:33',periods = 10)"
   ]
  },
  {
   "cell_type": "code",
   "execution_count": 97,
   "metadata": {
    "collapsed": false
   },
   "outputs": [
    {
     "data": {
      "text/plain": [
       "DatetimeIndex(['2019-01-15', '2019-01-16', '2019-01-17', '2019-01-18',\n",
       "               '2019-01-19', '2019-01-20', '2019-01-21', '2019-01-22',\n",
       "               '2019-01-23', '2019-01-24'],\n",
       "              dtype='datetime64[ns]', freq='D')"
      ]
     },
     "execution_count": 97,
     "metadata": {},
     "output_type": "execute_result"
    }
   ],
   "source": [
    "pd.date_range(start = '2019-01-15 12:56:33',periods = 10, normalize = True)"
   ]
  },
  {
   "cell_type": "code",
   "execution_count": 99,
   "metadata": {
    "collapsed": false
   },
   "outputs": [
    {
     "data": {
      "text/plain": [
       "DatetimeIndex(['2019-01-15 00:00:00', '2019-01-15 05:30:00',\n",
       "               '2019-01-15 11:00:00', '2019-01-15 16:30:00',\n",
       "               '2019-01-15 22:00:00', '2019-01-16 03:30:00',\n",
       "               '2019-01-16 09:00:00', '2019-01-16 14:30:00',\n",
       "               '2019-01-16 20:00:00', '2019-01-17 01:30:00',\n",
       "               ...\n",
       "               '2020-01-13 22:00:00', '2020-01-14 03:30:00',\n",
       "               '2020-01-14 09:00:00', '2020-01-14 14:30:00',\n",
       "               '2020-01-14 20:00:00', '2020-01-15 01:30:00',\n",
       "               '2020-01-15 07:00:00', '2020-01-15 12:30:00',\n",
       "               '2020-01-15 18:00:00', '2020-01-15 23:30:00'],\n",
       "              dtype='datetime64[ns]', length=1598, freq='330T')"
      ]
     },
     "execution_count": 99,
     "metadata": {},
     "output_type": "execute_result"
    }
   ],
   "source": []
  },
  {
   "cell_type": "code",
   "execution_count": null,
   "metadata": {
    "collapsed": true
   },
   "outputs": [],
   "source": []
  }
 ],
 "metadata": {
  "anaconda-cloud": {},
  "kernelspec": {
   "display_name": "Python [conda root]",
   "language": "python",
   "name": "conda-root-py"
  },
  "language_info": {
   "codemirror_mode": {
    "name": "ipython",
    "version": 3
   },
   "file_extension": ".py",
   "mimetype": "text/x-python",
   "name": "python",
   "nbconvert_exporter": "python",
   "pygments_lexer": "ipython3",
   "version": "3.5.2"
  }
 },
 "nbformat": 4,
 "nbformat_minor": 1
}
